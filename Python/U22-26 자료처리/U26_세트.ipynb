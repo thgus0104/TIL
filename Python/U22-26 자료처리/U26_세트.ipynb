{
  "nbformat": 4,
  "nbformat_minor": 0,
  "metadata": {
    "colab": {
      "name": "U26_세트.ipynb",
      "provenance": [],
      "collapsed_sections": []
    },
    "kernelspec": {
      "name": "python3",
      "display_name": "Python 3"
    },
    "language_info": {
      "name": "python"
    }
  },
  "cells": [
    {
      "cell_type": "markdown",
      "metadata": {
        "id": "f9GOkeBy4S2H"
      },
      "source": [
        "# Unit 26. 세트(집합)"
      ]
    },
    {
      "cell_type": "code",
      "metadata": {
        "colab": {
          "base_uri": "https://localhost:8080/"
        },
        "id": "9tdJOFjh4Pxk",
        "outputId": "b4a3a1f6-7f4a-4736-e91c-41ca71942e7d"
      },
      "source": [
        "fruits = {'apple', 'banana','cherry', 'orange', 'grape'}\n",
        "fruits\n",
        "#입력한 순서대로 나오지 않음"
      ],
      "execution_count": 2,
      "outputs": [
        {
          "output_type": "execute_result",
          "data": {
            "text/plain": [
              "{'apple', 'banana', 'cherry', 'grape', 'orange'}"
            ]
          },
          "metadata": {
            "tags": []
          },
          "execution_count": 2
        }
      ]
    },
    {
      "cell_type": "code",
      "metadata": {
        "colab": {
          "base_uri": "https://localhost:8080/"
        },
        "id": "tm0qiKWQ4hQc",
        "outputId": "9650882e-dfb3-4b7d-ae98-ba613313dac9"
      },
      "source": [
        "type(fruits)"
      ],
      "execution_count": 3,
      "outputs": [
        {
          "output_type": "execute_result",
          "data": {
            "text/plain": [
              "set"
            ]
          },
          "metadata": {
            "tags": []
          },
          "execution_count": 3
        }
      ]
    },
    {
      "cell_type": "code",
      "metadata": {
        "colab": {
          "base_uri": "https://localhost:8080/"
        },
        "id": "DoI6Rt3F4s-w",
        "outputId": "877e8192-e563-4233-c289-e164c18f92b8"
      },
      "source": [
        "fruits = {'apple', 'banana','cherry', 'orange', 'grape', 'apple'}\n",
        "fruits\n",
        "#요소에 중복이 들어가면 하나만 출력"
      ],
      "execution_count": 5,
      "outputs": [
        {
          "output_type": "execute_result",
          "data": {
            "text/plain": [
              "{'apple', 'banana', 'cherry', 'grape', 'orange'}"
            ]
          },
          "metadata": {
            "tags": []
          },
          "execution_count": 5
        }
      ]
    },
    {
      "cell_type": "code",
      "metadata": {
        "colab": {
          "base_uri": "https://localhost:8080/"
        },
        "id": "OFU5dtRv4wnL",
        "outputId": "190292bb-6141-42bd-8e02-300eaa3e8032"
      },
      "source": [
        "'peach' in fruits"
      ],
      "execution_count": 6,
      "outputs": [
        {
          "output_type": "execute_result",
          "data": {
            "text/plain": [
              "False"
            ]
          },
          "metadata": {
            "tags": []
          },
          "execution_count": 6
        }
      ]
    },
    {
      "cell_type": "code",
      "metadata": {
        "colab": {
          "base_uri": "https://localhost:8080/"
        },
        "id": "dau-r0co43tX",
        "outputId": "d774073d-759c-4471-d5a5-7bb29f628c52"
      },
      "source": [
        "'peach' not in fruits"
      ],
      "execution_count": 7,
      "outputs": [
        {
          "output_type": "execute_result",
          "data": {
            "text/plain": [
              "True"
            ]
          },
          "metadata": {
            "tags": []
          },
          "execution_count": 7
        }
      ]
    },
    {
      "cell_type": "code",
      "metadata": {
        "colab": {
          "base_uri": "https://localhost:8080/"
        },
        "id": "NYyRFppC4_nH",
        "outputId": "f3f4b139-c8e7-4fd9-c9ee-ecdc12dc44f2"
      },
      "source": [
        "a = set('apple')\n",
        "a\n",
        "#a는 집합으로 출력, 출력순서 랜덤, 중복은 한번만 출력"
      ],
      "execution_count": 9,
      "outputs": [
        {
          "output_type": "execute_result",
          "data": {
            "text/plain": [
              "{'a', 'e', 'l', 'p'}"
            ]
          },
          "metadata": {
            "tags": []
          },
          "execution_count": 9
        }
      ]
    },
    {
      "cell_type": "code",
      "metadata": {
        "colab": {
          "base_uri": "https://localhost:8080/"
        },
        "id": "eKYaq2ft5Kt4",
        "outputId": "7ffe8f21-ca56-4bea-8233-ffa0524bb82c"
      },
      "source": [
        "set('안녕하세요')"
      ],
      "execution_count": 10,
      "outputs": [
        {
          "output_type": "execute_result",
          "data": {
            "text/plain": [
              "{'녕', '세', '안', '요', '하'}"
            ]
          },
          "metadata": {
            "tags": []
          },
          "execution_count": 10
        }
      ]
    },
    {
      "cell_type": "code",
      "metadata": {
        "id": "KsTFY32B5VC-"
      },
      "source": [
        "#합집합,교집합,차집합 등 수학의 집합에서 가능한 연산들 모두 가능"
      ],
      "execution_count": 11,
      "outputs": []
    },
    {
      "cell_type": "markdown",
      "metadata": {
        "id": "EkYX9yoL5km4"
      },
      "source": [
        "## 26.2 연산"
      ]
    },
    {
      "cell_type": "code",
      "metadata": {
        "colab": {
          "base_uri": "https://localhost:8080/"
        },
        "id": "l0aoKh1v5jke",
        "outputId": "d7595a4e-bfe1-4cf3-d1f1-98147579385d"
      },
      "source": [
        "a = set(range(4)) #0123\n",
        "b = set(range(2,6)) #2345\n",
        "a, b"
      ],
      "execution_count": 12,
      "outputs": [
        {
          "output_type": "execute_result",
          "data": {
            "text/plain": [
              "({0, 1, 2, 3}, {2, 3, 4, 5})"
            ]
          },
          "metadata": {
            "tags": []
          },
          "execution_count": 12
        }
      ]
    },
    {
      "cell_type": "code",
      "metadata": {
        "colab": {
          "base_uri": "https://localhost:8080/"
        },
        "id": "061HkUI451tM",
        "outputId": "ad49c811-d28e-4439-8c18-2f157ac1c72f"
      },
      "source": [
        "#합집합(union)\n",
        "a | b"
      ],
      "execution_count": 14,
      "outputs": [
        {
          "output_type": "execute_result",
          "data": {
            "text/plain": [
              "{0, 1, 2, 3, 4, 5}"
            ]
          },
          "metadata": {
            "tags": []
          },
          "execution_count": 14
        }
      ]
    },
    {
      "cell_type": "code",
      "metadata": {
        "colab": {
          "base_uri": "https://localhost:8080/"
        },
        "id": "OptRwJLc55Mz",
        "outputId": "e3d8c8d6-4c00-4dc5-ba09-701191443e8f"
      },
      "source": [
        "#합집합2\n",
        "set.union(a,b)"
      ],
      "execution_count": 15,
      "outputs": [
        {
          "output_type": "execute_result",
          "data": {
            "text/plain": [
              "{0, 1, 2, 3, 4, 5}"
            ]
          },
          "metadata": {
            "tags": []
          },
          "execution_count": 15
        }
      ]
    },
    {
      "cell_type": "code",
      "metadata": {
        "colab": {
          "base_uri": "https://localhost:8080/"
        },
        "id": "Om0mtrNI6OLQ",
        "outputId": "206e6c69-66f3-4def-8758-d55f515b6d3a"
      },
      "source": [
        "#교집합(intersection)\n",
        "a & b"
      ],
      "execution_count": 16,
      "outputs": [
        {
          "output_type": "execute_result",
          "data": {
            "text/plain": [
              "{2, 3}"
            ]
          },
          "metadata": {
            "tags": []
          },
          "execution_count": 16
        }
      ]
    },
    {
      "cell_type": "code",
      "metadata": {
        "colab": {
          "base_uri": "https://localhost:8080/"
        },
        "id": "ynxHZRDd6iSM",
        "outputId": "a000ee69-c2d9-470c-9da8-5d603eed9062"
      },
      "source": [
        "#교집합2\n",
        "set.intersection(a, b)"
      ],
      "execution_count": 17,
      "outputs": [
        {
          "output_type": "execute_result",
          "data": {
            "text/plain": [
              "{2, 3}"
            ]
          },
          "metadata": {
            "tags": []
          },
          "execution_count": 17
        }
      ]
    },
    {
      "cell_type": "code",
      "metadata": {
        "colab": {
          "base_uri": "https://localhost:8080/"
        },
        "id": "muxGNY2t6mLI",
        "outputId": "b46f1482-c60e-4e35-c69c-1e57137f1d7a"
      },
      "source": [
        "#차집합\n",
        "a - b"
      ],
      "execution_count": 18,
      "outputs": [
        {
          "output_type": "execute_result",
          "data": {
            "text/plain": [
              "{0, 1}"
            ]
          },
          "metadata": {
            "tags": []
          },
          "execution_count": 18
        }
      ]
    },
    {
      "cell_type": "code",
      "metadata": {
        "colab": {
          "base_uri": "https://localhost:8080/"
        },
        "id": "3ilY8qFf6pLz",
        "outputId": "eb13bcfc-7a21-43ec-bcc4-5a7a5e243dee"
      },
      "source": [
        "#차집합2\n",
        "set.difference(a,b)"
      ],
      "execution_count": 19,
      "outputs": [
        {
          "output_type": "execute_result",
          "data": {
            "text/plain": [
              "{0, 1}"
            ]
          },
          "metadata": {
            "tags": []
          },
          "execution_count": 19
        }
      ]
    },
    {
      "cell_type": "code",
      "metadata": {
        "colab": {
          "base_uri": "https://localhost:8080/"
        },
        "id": "oal4o0_V6uFk",
        "outputId": "f2645870-7b52-4f26-be86-0512bf6441a8"
      },
      "source": [
        "b-a"
      ],
      "execution_count": 20,
      "outputs": [
        {
          "output_type": "execute_result",
          "data": {
            "text/plain": [
              "{4, 5}"
            ]
          },
          "metadata": {
            "tags": []
          },
          "execution_count": 20
        }
      ]
    },
    {
      "cell_type": "code",
      "metadata": {
        "colab": {
          "base_uri": "https://localhost:8080/"
        },
        "id": "-vlt7-3W6vOB",
        "outputId": "806d273f-3cff-40bc-b5fd-0bb163dbf7ba"
      },
      "source": [
        "#대칭차집합(symmetric difference)\n",
        "a ^ b"
      ],
      "execution_count": 21,
      "outputs": [
        {
          "output_type": "execute_result",
          "data": {
            "text/plain": [
              "{0, 1, 4, 5}"
            ]
          },
          "metadata": {
            "tags": []
          },
          "execution_count": 21
        }
      ]
    },
    {
      "cell_type": "code",
      "metadata": {
        "colab": {
          "base_uri": "https://localhost:8080/"
        },
        "id": "CHmZd-uT7F7-",
        "outputId": "6835646c-6b85-4721-a509-3551a12b7fff"
      },
      "source": [
        "set.symmetric_difference(a,b)"
      ],
      "execution_count": 22,
      "outputs": [
        {
          "output_type": "execute_result",
          "data": {
            "text/plain": [
              "{0, 1, 4, 5}"
            ]
          },
          "metadata": {
            "tags": []
          },
          "execution_count": 22
        }
      ]
    },
    {
      "cell_type": "markdown",
      "metadata": {
        "id": "JI44Y3Hm7vop"
      },
      "source": [
        "### 부분집합(subset), 상위집합(superset)"
      ]
    },
    {
      "cell_type": "code",
      "metadata": {
        "colab": {
          "base_uri": "https://localhost:8080/"
        },
        "id": "HUyptqx17IP7",
        "outputId": "4aee74d8-6fa8-4466-9d4f-f1f290b63067"
      },
      "source": [
        "a <= {0,1,2,3}"
      ],
      "execution_count": 23,
      "outputs": [
        {
          "output_type": "execute_result",
          "data": {
            "text/plain": [
              "True"
            ]
          },
          "metadata": {
            "tags": []
          },
          "execution_count": 23
        }
      ]
    },
    {
      "cell_type": "code",
      "metadata": {
        "colab": {
          "base_uri": "https://localhost:8080/"
        },
        "id": "ASLYDGhB71eK",
        "outputId": "07305d91-2db7-4d72-8ad0-270038edd964"
      },
      "source": [
        "a.issubset({0,1,2,3,4})"
      ],
      "execution_count": 24,
      "outputs": [
        {
          "output_type": "execute_result",
          "data": {
            "text/plain": [
              "True"
            ]
          },
          "metadata": {
            "tags": []
          },
          "execution_count": 24
        }
      ]
    },
    {
      "cell_type": "code",
      "metadata": {
        "colab": {
          "base_uri": "https://localhost:8080/"
        },
        "id": "51ZwgO2t77Mp",
        "outputId": "ca20dc4d-11f2-46b4-9686-3a20d75b19db"
      },
      "source": [
        "a >={1,2,3}"
      ],
      "execution_count": 25,
      "outputs": [
        {
          "output_type": "execute_result",
          "data": {
            "text/plain": [
              "True"
            ]
          },
          "metadata": {
            "tags": []
          },
          "execution_count": 25
        }
      ]
    },
    {
      "cell_type": "code",
      "metadata": {
        "colab": {
          "base_uri": "https://localhost:8080/"
        },
        "id": "bMEBO55m7-EH",
        "outputId": "faf1cb1b-b3d2-43d4-af09-edd39ffdf7b9"
      },
      "source": [
        "a.issuperset({1,2,3})"
      ],
      "execution_count": 26,
      "outputs": [
        {
          "output_type": "execute_result",
          "data": {
            "text/plain": [
              "True"
            ]
          },
          "metadata": {
            "tags": []
          },
          "execution_count": 26
        }
      ]
    },
    {
      "cell_type": "markdown",
      "metadata": {
        "id": "jOscGSFF8IlO"
      },
      "source": [
        "### 값 비교"
      ]
    },
    {
      "cell_type": "code",
      "metadata": {
        "colab": {
          "base_uri": "https://localhost:8080/"
        },
        "id": "eTxGMQFa8Cf-",
        "outputId": "d5e4eb47-95c7-4859-dd9e-2ded0c04645a"
      },
      "source": [
        "a == {3, 1, 0, 2}"
      ],
      "execution_count": 27,
      "outputs": [
        {
          "output_type": "execute_result",
          "data": {
            "text/plain": [
              "True"
            ]
          },
          "metadata": {
            "tags": []
          },
          "execution_count": 27
        }
      ]
    },
    {
      "cell_type": "code",
      "metadata": {
        "colab": {
          "base_uri": "https://localhost:8080/"
        },
        "id": "HOC1dDsE8Lpk",
        "outputId": "b95483cc-9fa5-4229-bdef-8b600bbe205a"
      },
      "source": [
        "#겹치는게 없느냐? False면 교집합 있다는 뜻\n",
        "a.isdisjoint(b)"
      ],
      "execution_count": 28,
      "outputs": [
        {
          "output_type": "execute_result",
          "data": {
            "text/plain": [
              "False"
            ]
          },
          "metadata": {
            "tags": []
          },
          "execution_count": 28
        }
      ]
    },
    {
      "cell_type": "code",
      "metadata": {
        "colab": {
          "base_uri": "https://localhost:8080/"
        },
        "id": "qnVd4CEB8o2u",
        "outputId": "01e5021c-eaf1-4782-f195-4f919c197cdf"
      },
      "source": [
        "a.isdisjoint({4,5,6,7})"
      ],
      "execution_count": 29,
      "outputs": [
        {
          "output_type": "execute_result",
          "data": {
            "text/plain": [
              "True"
            ]
          },
          "metadata": {
            "tags": []
          },
          "execution_count": 29
        }
      ]
    },
    {
      "cell_type": "markdown",
      "metadata": {
        "id": "CMIX4Jh78xgm"
      },
      "source": [
        "## 26.3 세트 조작"
      ]
    },
    {
      "cell_type": "code",
      "metadata": {
        "colab": {
          "base_uri": "https://localhost:8080/"
        },
        "id": "gRqO_I_J8rjN",
        "outputId": "f8cb2ac1-5bc9-450f-ada2-2766c1f36b3d"
      },
      "source": [
        "#요소 추가\n",
        "a.add(4)\n",
        "a"
      ],
      "execution_count": 31,
      "outputs": [
        {
          "output_type": "execute_result",
          "data": {
            "text/plain": [
              "{0, 1, 2, 3, 4}"
            ]
          },
          "metadata": {
            "tags": []
          },
          "execution_count": 31
        }
      ]
    },
    {
      "cell_type": "code",
      "metadata": {
        "colab": {
          "base_uri": "https://localhost:8080/"
        },
        "id": "DMsvwEdj89b9",
        "outputId": "a0300976-1347-4b6d-9a1f-a2861d27472d"
      },
      "source": [
        "#요소 제거\n",
        "a.remove(4)\n",
        "a"
      ],
      "execution_count": 33,
      "outputs": [
        {
          "output_type": "execute_result",
          "data": {
            "text/plain": [
              "{0, 1, 2, 3}"
            ]
          },
          "metadata": {
            "tags": []
          },
          "execution_count": 33
        }
      ]
    },
    {
      "cell_type": "code",
      "metadata": {
        "colab": {
          "base_uri": "https://localhost:8080/"
        },
        "id": "kfjz2IMs9BbW",
        "outputId": "3e595c85-876f-4f1f-931a-275a39530250"
      },
      "source": [
        "#랜덤 제거-제거된요소 출력\n",
        "a.pop()"
      ],
      "execution_count": 35,
      "outputs": [
        {
          "output_type": "execute_result",
          "data": {
            "text/plain": [
              "1"
            ]
          },
          "metadata": {
            "tags": []
          },
          "execution_count": 35
        }
      ]
    },
    {
      "cell_type": "code",
      "metadata": {
        "colab": {
          "base_uri": "https://localhost:8080/"
        },
        "id": "inQTpddY9OVK",
        "outputId": "6d6e5fd3-59b4-41da-fed6-01a46048ab60"
      },
      "source": [
        "len(a) #위에서 두번뺌"
      ],
      "execution_count": 37,
      "outputs": [
        {
          "output_type": "execute_result",
          "data": {
            "text/plain": [
              "2"
            ]
          },
          "metadata": {
            "tags": []
          },
          "execution_count": 37
        }
      ]
    },
    {
      "cell_type": "code",
      "metadata": {
        "id": "6J02m6hF9VLe"
      },
      "source": [
        ""
      ],
      "execution_count": null,
      "outputs": []
    }
  ]
}