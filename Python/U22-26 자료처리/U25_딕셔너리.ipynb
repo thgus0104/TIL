{
  "nbformat": 4,
  "nbformat_minor": 0,
  "metadata": {
    "colab": {
      "name": "U25_딕셔너리.ipynb",
      "provenance": [],
      "collapsed_sections": []
    },
    "kernelspec": {
      "name": "python3",
      "display_name": "Python 3"
    },
    "language_info": {
      "name": "python"
    }
  },
  "cells": [
    {
      "cell_type": "markdown",
      "metadata": {
        "id": "qy1B1f13oTqv"
      },
      "source": [
        "# Unit 25. 딕셔너리 응용"
      ]
    },
    {
      "cell_type": "markdown",
      "metadata": {
        "id": "IhJhtHhtoS-M"
      },
      "source": [
        "## 25.1 딕셔너리 조작"
      ]
    },
    {
      "cell_type": "code",
      "metadata": {
        "colab": {
          "base_uri": "https://localhost:8080/"
        },
        "id": "XVLo-ut9oPIh",
        "outputId": "dff03992-7e2e-4578-ee1e-37ef2410e2d5"
      },
      "source": [
        "x = {'a':10, 'b':10, 'c':10, 'd':40}\n",
        "x.setdefault('e', 100)\n",
        "x"
      ],
      "execution_count": 1,
      "outputs": [
        {
          "output_type": "execute_result",
          "data": {
            "text/plain": [
              "{'a': 10, 'b': 10, 'c': 10, 'd': 40, 'e': 100}"
            ]
          },
          "metadata": {
            "tags": []
          },
          "execution_count": 1
        }
      ]
    },
    {
      "cell_type": "code",
      "metadata": {
        "colab": {
          "base_uri": "https://localhost:8080/"
        },
        "id": "E0JEGLRhowjH",
        "outputId": "b6fffe17-ab61-47f2-8f0d-62296b660f26"
      },
      "source": [
        "#update는 변경과 생성 모두 가능하기 때문에 setdefault잘 쓰지 않음\n",
        "\n",
        "x.update(a=90)\n",
        "x"
      ],
      "execution_count": 4,
      "outputs": [
        {
          "output_type": "execute_result",
          "data": {
            "text/plain": [
              "{'a': 90, 'b': 10, 'c': 10, 'd': 40}"
            ]
          },
          "metadata": {
            "tags": []
          },
          "execution_count": 4
        }
      ]
    },
    {
      "cell_type": "code",
      "metadata": {
        "colab": {
          "base_uri": "https://localhost:8080/"
        },
        "id": "aXU0XRSEpEEg",
        "outputId": "5a186a3b-82c9-48e3-e028-73e271837ad6"
      },
      "source": [
        "x.update(e=100)\n",
        "x"
      ],
      "execution_count": 3,
      "outputs": [
        {
          "output_type": "execute_result",
          "data": {
            "text/plain": [
              "{'a': 90, 'b': 10, 'c': 10, 'd': 40, 'e': 100}"
            ]
          },
          "metadata": {
            "tags": []
          },
          "execution_count": 3
        }
      ]
    },
    {
      "cell_type": "code",
      "metadata": {
        "colab": {
          "base_uri": "https://localhost:8080/"
        },
        "id": "-9OzRXxSpHe6",
        "outputId": "05490216-3fae-41c4-8e4d-185563c8af5b"
      },
      "source": [
        "x = {'a':10, 'b':10, 'c':10, 'd':40}\n",
        "x['e'] = 100\n",
        "x"
      ],
      "execution_count": 1,
      "outputs": [
        {
          "output_type": "execute_result",
          "data": {
            "text/plain": [
              "{'a': 10, 'b': 10, 'c': 10, 'd': 40, 'e': 100}"
            ]
          },
          "metadata": {
            "tags": []
          },
          "execution_count": 1
        }
      ]
    },
    {
      "cell_type": "code",
      "metadata": {
        "colab": {
          "base_uri": "https://localhost:8080/"
        },
        "id": "JsO4mAoipwES",
        "outputId": "af341508-c0ab-494c-e444-c8627370e0cc"
      },
      "source": [
        "x['a']=90\n",
        "x"
      ],
      "execution_count": 2,
      "outputs": [
        {
          "output_type": "execute_result",
          "data": {
            "text/plain": [
              "{'a': 90, 'b': 10, 'c': 10, 'd': 40, 'e': 100}"
            ]
          },
          "metadata": {
            "tags": []
          },
          "execution_count": 2
        }
      ]
    },
    {
      "cell_type": "code",
      "metadata": {
        "colab": {
          "base_uri": "https://localhost:8080/"
        },
        "id": "OsnCmm1jp1VM",
        "outputId": "38e6b5d8-b35e-4c65-da53-e3a5fad9c9cb"
      },
      "source": [
        "x.pop('e')"
      ],
      "execution_count": 3,
      "outputs": [
        {
          "output_type": "execute_result",
          "data": {
            "text/plain": [
              "100"
            ]
          },
          "metadata": {
            "tags": []
          },
          "execution_count": 3
        }
      ]
    },
    {
      "cell_type": "code",
      "metadata": {
        "colab": {
          "base_uri": "https://localhost:8080/"
        },
        "id": "O6ndq-tWqIGh",
        "outputId": "0d92e9fa-c3e3-4b79-8d62-aae0e495a99a"
      },
      "source": [
        "x"
      ],
      "execution_count": 4,
      "outputs": [
        {
          "output_type": "execute_result",
          "data": {
            "text/plain": [
              "{'a': 90, 'b': 10, 'c': 10, 'd': 40}"
            ]
          },
          "metadata": {
            "tags": []
          },
          "execution_count": 4
        }
      ]
    },
    {
      "cell_type": "code",
      "metadata": {
        "colab": {
          "base_uri": "https://localhost:8080/"
        },
        "id": "5FdbiKjMqLly",
        "outputId": "a80bee80-0f03-40a9-9ed4-0e0c688976d2"
      },
      "source": [
        "#특정값확인하는 방법(근데 get은 안씀)\n",
        "x.get('c')"
      ],
      "execution_count": 5,
      "outputs": [
        {
          "output_type": "execute_result",
          "data": {
            "text/plain": [
              "10"
            ]
          },
          "metadata": {
            "tags": []
          },
          "execution_count": 5
        }
      ]
    },
    {
      "cell_type": "code",
      "metadata": {
        "colab": {
          "base_uri": "https://localhost:8080/"
        },
        "id": "7Lki78Mqq7Ll",
        "outputId": "08f9a4f3-df73-41d0-e07b-c3505ae8a20d"
      },
      "source": [
        "#이걸 더 많이 씀\n",
        "x['c']"
      ],
      "execution_count": 6,
      "outputs": [
        {
          "output_type": "execute_result",
          "data": {
            "text/plain": [
              "10"
            ]
          },
          "metadata": {
            "tags": []
          },
          "execution_count": 6
        }
      ]
    },
    {
      "cell_type": "markdown",
      "metadata": {
        "id": "9pw0hsxwrJwf"
      },
      "source": [
        "### 키, 값쌍 모두 가져오기"
      ]
    },
    {
      "cell_type": "code",
      "metadata": {
        "colab": {
          "base_uri": "https://localhost:8080/"
        },
        "id": "KF6pzbG9rJBv",
        "outputId": "1c560a34-e7a8-4f19-c5f2-78e48dbdb689"
      },
      "source": [
        "x = {'a':10, 'b':20, 'c':30, 'd':40}\n",
        "x.items()"
      ],
      "execution_count": 10,
      "outputs": [
        {
          "output_type": "execute_result",
          "data": {
            "text/plain": [
              "dict_items([('a', 10), ('b', 20), ('c', 30), ('d', 40)])"
            ]
          },
          "metadata": {
            "tags": []
          },
          "execution_count": 10
        }
      ]
    },
    {
      "cell_type": "code",
      "metadata": {
        "colab": {
          "base_uri": "https://localhost:8080/"
        },
        "id": "NWzQyqa4rR47",
        "outputId": "110f965d-c0b3-4207-c769-3448c60191c0"
      },
      "source": [
        "x.keys()"
      ],
      "execution_count": 11,
      "outputs": [
        {
          "output_type": "execute_result",
          "data": {
            "text/plain": [
              "dict_keys(['a', 'b', 'c', 'd'])"
            ]
          },
          "metadata": {
            "tags": []
          },
          "execution_count": 11
        }
      ]
    },
    {
      "cell_type": "code",
      "metadata": {
        "colab": {
          "base_uri": "https://localhost:8080/"
        },
        "id": "qVnLWSkfrUmE",
        "outputId": "681c2567-1b8f-44ad-e298-6aead6bcd90a"
      },
      "source": [
        "x.values()"
      ],
      "execution_count": 12,
      "outputs": [
        {
          "output_type": "execute_result",
          "data": {
            "text/plain": [
              "dict_values([10, 20, 30, 40])"
            ]
          },
          "metadata": {
            "tags": []
          },
          "execution_count": 12
        }
      ]
    },
    {
      "cell_type": "markdown",
      "metadata": {
        "id": "SDDWIxbnsoyl"
      },
      "source": [
        "### 리스트와 튜플로 딕셔너리 생성하기"
      ]
    },
    {
      "cell_type": "code",
      "metadata": {
        "colab": {
          "base_uri": "https://localhost:8080/"
        },
        "id": "vmxh9Rd5rXvH",
        "outputId": "5150695f-c6f8-4917-c2e4-177835e7c35d"
      },
      "source": [
        "#키하고 값 바꾸고 싶을때\n",
        "#zip=키값리스트 따로,밸류값리스트 따로 불러서 한꺼번에 수정하고 싶을때\n",
        "dict(zip(x.values(),x.keys()))"
      ],
      "execution_count": 15,
      "outputs": [
        {
          "output_type": "execute_result",
          "data": {
            "text/plain": [
              "{10: 'a', 20: 'b', 30: 'c', 40: 'd'}"
            ]
          },
          "metadata": {
            "tags": []
          },
          "execution_count": 15
        }
      ]
    },
    {
      "cell_type": "code",
      "metadata": {
        "id": "hom30kLXrigL"
      },
      "source": [
        "ㅏ = ('a', 'b', 'c', 'd')"
      ],
      "execution_count": null,
      "outputs": []
    },
    {
      "cell_type": "markdown",
      "metadata": {
        "id": "hPUimUrYssT_"
      },
      "source": [
        "## 25.2 반복문"
      ]
    },
    {
      "cell_type": "code",
      "metadata": {
        "colab": {
          "base_uri": "https://localhost:8080/"
        },
        "id": "5SXpwyVnsr-i",
        "outputId": "977e16e5-250b-455b-f724-339e288f29db"
      },
      "source": [
        "x = {'a':10, 'b':20, 'c':30, 'd':40}\n",
        "for key, value in x.items():\n",
        "  print(f'{key}:{x[key]}')"
      ],
      "execution_count": 18,
      "outputs": [
        {
          "output_type": "stream",
          "text": [
            "a:10\n",
            "b:20\n",
            "c:30\n",
            "d:40\n"
          ],
          "name": "stdout"
        }
      ]
    },
    {
      "cell_type": "code",
      "metadata": {
        "colab": {
          "base_uri": "https://localhost:8080/"
        },
        "id": "BPK4_vlis-WK",
        "outputId": "46f3c35b-e0c3-4214-f2c1-fc70e71abb4d"
      },
      "source": [
        "for i, (k, v) in enumerate(x.items()):\n",
        "  print(i, k, v)"
      ],
      "execution_count": 21,
      "outputs": [
        {
          "output_type": "stream",
          "text": [
            "0 a 10\n",
            "1 b 20\n",
            "2 c 30\n",
            "3 d 40\n"
          ],
          "name": "stdout"
        }
      ]
    },
    {
      "cell_type": "markdown",
      "metadata": {
        "id": "RVQf7i3YtsjZ"
      },
      "source": [
        "## 25.3 딕셔너리 표현식"
      ]
    },
    {
      "cell_type": "code",
      "metadata": {
        "colab": {
          "base_uri": "https://localhost:8080/"
        },
        "id": "VnsAMDVytmL2",
        "outputId": "a3e4fc98-d1b1-465a-a842-488f56bb43eb"
      },
      "source": [
        "x = {'a':10, 'b':20, 'c':30, 'd':40}\n",
        "x2 = {key:value*value for key, value in x.items()}\n",
        "x2"
      ],
      "execution_count": 22,
      "outputs": [
        {
          "output_type": "execute_result",
          "data": {
            "text/plain": [
              "{'a': 100, 'b': 400, 'c': 900, 'd': 1600}"
            ]
          },
          "metadata": {
            "tags": []
          },
          "execution_count": 22
        }
      ]
    },
    {
      "cell_type": "markdown",
      "metadata": {
        "id": "TNPrUwN1vMHG"
      },
      "source": [
        "## 25.4 딕셔너리 안에서 딕셔너리 사용"
      ]
    },
    {
      "cell_type": "code",
      "metadata": {
        "colab": {
          "base_uri": "https://localhost:8080/"
        },
        "id": "HWB4cyN9uvMq",
        "outputId": "94a31c3a-5a3d-453c-87f4-fd316767ad39"
      },
      "source": [
        "#2차 딕셔너리 정도로 생각하면 될듯\n",
        "#비너스 행성의 반지름 구하기\n",
        "terrestrial_planet = {\n",
        "    'Mercury': {\n",
        "        'mean_radius': 2439.7, #반지름\n",
        "        'mass': 3.3022E+23, #질량\n",
        "        'orbital_period': 87.969 #공전주기\n",
        "    },\n",
        "    'Venus': {\n",
        "        'mean_radius': 6051.8,\n",
        "        'mass': 4.8676E+24,\n",
        "        'orbital_period': 224.70069,\n",
        "    },\n",
        "    'Earth': {\n",
        "        'mean_radius': 6371.0,\n",
        "        'mass': 5.97219E+24,\n",
        "        'orbital_period': 365.25641,\n",
        "    },\n",
        "    'Mars': {\n",
        "        'mean_radius': 3389.5,\n",
        "        'mass': 6.4185E+23,\n",
        "        'orbital_period': 686.9600,\n",
        "    }\n",
        "}\n",
        " \n",
        "print(terrestrial_planet['Venus']['mean_radius'])    # 6051.8"
      ],
      "execution_count": 29,
      "outputs": [
        {
          "output_type": "stream",
          "text": [
            "6051.8\n"
          ],
          "name": "stdout"
        }
      ]
    },
    {
      "cell_type": "code",
      "metadata": {
        "colab": {
          "base_uri": "https://localhost:8080/"
        },
        "id": "yBOUAJvfveL1",
        "outputId": "0e820197-b19c-4201-c0c4-ba497b6ce5d2"
      },
      "source": [
        "result={'results': {'common': {'countPerPage': '10',\n",
        "   'currentPage': '1',\n",
        "   'errorCode': '0',\n",
        "   'errorMessage': '정상',\n",
        "   'totalCount': '1'},\n",
        "  'juso': [{'admCd': '4215013700',\n",
        "    'bdKdcd': '0',\n",
        "    'bdMgtSn': '4215013700100940000017657',\n",
        "    'bdNm': '경포대',\n",
        "    'buldMnnm': '365',\n",
        "    'buldSlno': '0',\n",
        "    'detBdNmList': '',\n",
        "    'emdNm': '저동',\n",
        "    'emdNo': '03',\n",
        "    'engAddr': '365, Gyeongpo-ro, Gangneung-si, Gangwon-do',\n",
        "    'jibunAddr': '강원도 강릉시 저동 94 경포대',\n",
        "    'liNm': '',\n",
        "    'lnbrMnnm': '94',\n",
        "    'lnbrSlno': '0',\n",
        "    'mtYn': '0',\n",
        "    'rn': '경포로',\n",
        "    'rnMgtSn': '421503220002',\n",
        "    'roadAddr': '강원도 강릉시 경포로 365(저동)',\n",
        "    'roadAddrPart1': '강원도 강릉시 경포로 365',\n",
        "    'roadAddrPart2': '(저동)',\n",
        "    'sggNm': '강릉시',\n",
        "    'siNm': '강원도',\n",
        "    'udrtYn': '0',\n",
        "    'zipNo': '25461'}]}}\n",
        "\n",
        "result"
      ],
      "execution_count": 13,
      "outputs": [
        {
          "output_type": "execute_result",
          "data": {
            "text/plain": [
              "{'results': {'common': {'countPerPage': '10',\n",
              "   'currentPage': '1',\n",
              "   'errorCode': '0',\n",
              "   'errorMessage': '정상',\n",
              "   'totalCount': '1'},\n",
              "  'juso': [{'admCd': '4215013700',\n",
              "    'bdKdcd': '0',\n",
              "    'bdMgtSn': '4215013700100940000017657',\n",
              "    'bdNm': '경포대',\n",
              "    'buldMnnm': '365',\n",
              "    'buldSlno': '0',\n",
              "    'detBdNmList': '',\n",
              "    'emdNm': '저동',\n",
              "    'emdNo': '03',\n",
              "    'engAddr': '365, Gyeongpo-ro, Gangneung-si, Gangwon-do',\n",
              "    'jibunAddr': '강원도 강릉시 저동 94 경포대',\n",
              "    'liNm': '',\n",
              "    'lnbrMnnm': '94',\n",
              "    'lnbrSlno': '0',\n",
              "    'mtYn': '0',\n",
              "    'rn': '경포로',\n",
              "    'rnMgtSn': '421503220002',\n",
              "    'roadAddr': '강원도 강릉시 경포로 365(저동)',\n",
              "    'roadAddrPart1': '강원도 강릉시 경포로 365',\n",
              "    'roadAddrPart2': '(저동)',\n",
              "    'sggNm': '강릉시',\n",
              "    'siNm': '강원도',\n",
              "    'udrtYn': '0',\n",
              "    'zipNo': '25461'}]}}"
            ]
          },
          "metadata": {
            "tags": []
          },
          "execution_count": 13
        }
      ]
    },
    {
      "cell_type": "code",
      "metadata": {
        "id": "Rv03T8jF0Cc3"
      },
      "source": [
        "#ㅁ이부분 못들음"
      ],
      "execution_count": null,
      "outputs": []
    }
  ]
}