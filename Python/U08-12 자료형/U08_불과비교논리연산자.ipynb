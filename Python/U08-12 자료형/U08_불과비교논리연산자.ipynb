{
  "nbformat": 4,
  "nbformat_minor": 0,
  "metadata": {
    "colab": {
      "name": "U08.ipynb",
      "provenance": [],
      "collapsed_sections": []
    },
    "kernelspec": {
      "name": "python3",
      "display_name": "Python 3"
    },
    "language_info": {
      "name": "python"
    }
  },
  "cells": [
    {
      "cell_type": "markdown",
      "metadata": {
        "id": "qk4nSF1yfAJD"
      },
      "source": [
        "#Unit 8. 불과 비교/논리 연산자\n"
      ]
    },
    {
      "cell_type": "markdown",
      "metadata": {
        "id": "KfBBSmN0fFps"
      },
      "source": [
        "## 8.1 불(Bool)과 비교 연산자"
      ]
    },
    {
      "cell_type": "code",
      "metadata": {
        "colab": {
          "base_uri": "https://localhost:8080/"
        },
        "id": "0pPWyQcte-uK",
        "outputId": "53696cbe-bd35-48d9-b563-431e6449223c"
      },
      "source": [
        "True, False"
      ],
      "execution_count": 1,
      "outputs": [
        {
          "output_type": "execute_result",
          "data": {
            "text/plain": [
              "(True, False)"
            ]
          },
          "metadata": {
            "tags": []
          },
          "execution_count": 1
        }
      ]
    },
    {
      "cell_type": "code",
      "metadata": {
        "colab": {
          "base_uri": "https://localhost:8080/"
        },
        "id": "OGPdOaR4fPWL",
        "outputId": "5acf5c55-ca66-4de6-b596-c884e44d7517"
      },
      "source": [
        "# >(크냐), >=(크거나같냐), <, <=, ==(같냐), !=(다르냐)\n",
        "10 >= 5"
      ],
      "execution_count": 2,
      "outputs": [
        {
          "output_type": "execute_result",
          "data": {
            "text/plain": [
              "True"
            ]
          },
          "metadata": {
            "tags": []
          },
          "execution_count": 2
        }
      ]
    },
    {
      "cell_type": "code",
      "metadata": {
        "colab": {
          "base_uri": "https://localhost:8080/"
        },
        "id": "Bqsj_mqWgAXA",
        "outputId": "24bc4da0-570c-40d6-e690-86c76053e864"
      },
      "source": [
        "a = 10 != 5\n",
        "a"
      ],
      "execution_count": 3,
      "outputs": [
        {
          "output_type": "execute_result",
          "data": {
            "text/plain": [
              "True"
            ]
          },
          "metadata": {
            "tags": []
          },
          "execution_count": 3
        }
      ]
    },
    {
      "cell_type": "code",
      "metadata": {
        "colab": {
          "base_uri": "https://localhost:8080/"
        },
        "id": "VWSvHQNVgKCB",
        "outputId": "f6533fe5-0c44-4a96-df14-613ea91b1108"
      },
      "source": [
        "'Python' == 'python'"
      ],
      "execution_count": 5,
      "outputs": [
        {
          "output_type": "execute_result",
          "data": {
            "text/plain": [
              "False"
            ]
          },
          "metadata": {
            "tags": []
          },
          "execution_count": 5
        }
      ]
    },
    {
      "cell_type": "markdown",
      "metadata": {
        "id": "szhqATdRgqSh"
      },
      "source": [
        "## 8.2 논리연산자\n",
        "\n",
        "\n",
        "*   and, or, not\n",
        "\n"
      ]
    },
    {
      "cell_type": "code",
      "metadata": {
        "colab": {
          "base_uri": "https://localhost:8080/"
        },
        "id": "-6Q_EZ1ogUgx",
        "outputId": "dd506b06-c24b-4c22-9c0d-23577ddb1e35"
      },
      "source": [
        "not True and False or not False"
      ],
      "execution_count": 6,
      "outputs": [
        {
          "output_type": "execute_result",
          "data": {
            "text/plain": [
              "True"
            ]
          },
          "metadata": {
            "tags": []
          },
          "execution_count": 6
        }
      ]
    },
    {
      "cell_type": "code",
      "metadata": {
        "colab": {
          "base_uri": "https://localhost:8080/"
        },
        "id": "QEyyqp55kMZY",
        "outputId": "0777a44c-22ae-4594-cb30-a97a3914aab5"
      },
      "source": [
        "((not True) and False) or (not False)"
      ],
      "execution_count": 8,
      "outputs": [
        {
          "output_type": "execute_result",
          "data": {
            "text/plain": [
              "True"
            ]
          },
          "metadata": {
            "tags": []
          },
          "execution_count": 8
        }
      ]
    },
    {
      "cell_type": "code",
      "metadata": {
        "colab": {
          "base_uri": "https://localhost:8080/"
        },
        "id": "09c4Ou8ykVQT",
        "outputId": "f241d3d1-e9ab-4be9-93e1-4b6f50abe17a"
      },
      "source": [
        "# x > 10, x < 5\n",
        "x = 6\n",
        "x > 10 or x < 5 #둘다 False임"
      ],
      "execution_count": 13,
      "outputs": [
        {
          "output_type": "execute_result",
          "data": {
            "text/plain": [
              "False"
            ]
          },
          "metadata": {
            "tags": []
          },
          "execution_count": 13
        }
      ]
    },
    {
      "cell_type": "code",
      "metadata": {
        "colab": {
          "base_uri": "https://localhost:8080/"
        },
        "id": "j4esddL4kqUW",
        "outputId": "0c9a29b6-fb01-4a2a-99c2-f44bd23b7595"
      },
      "source": [
        "# 5 < x <10\n",
        "x > 5 and x <10"
      ],
      "execution_count": 10,
      "outputs": [
        {
          "output_type": "execute_result",
          "data": {
            "text/plain": [
              "True"
            ]
          },
          "metadata": {
            "tags": []
          },
          "execution_count": 10
        }
      ]
    },
    {
      "cell_type": "code",
      "metadata": {
        "colab": {
          "base_uri": "https://localhost:8080/"
        },
        "id": "VGe9nd1Sk2yY",
        "outputId": "3306f677-fe41-434f-c938-12254520d170"
      },
      "source": [
        "#파이썬에서만 허용된 수식\n",
        "5< x <10"
      ],
      "execution_count": 11,
      "outputs": [
        {
          "output_type": "execute_result",
          "data": {
            "text/plain": [
              "True"
            ]
          },
          "metadata": {
            "tags": []
          },
          "execution_count": 11
        }
      ]
    },
    {
      "cell_type": "markdown",
      "metadata": {
        "id": "KDW7KrTGlL_B"
      },
      "source": [
        "### 정수, 실수 문자열"
      ]
    },
    {
      "cell_type": "code",
      "metadata": {
        "colab": {
          "base_uri": "https://localhost:8080/"
        },
        "id": "fkfuPDZok-UC",
        "outputId": "75c7b63b-a070-4ecf-e81d-9893b0f13c63"
      },
      "source": [
        "bool(0), bool(1)\n",
        "#0만 아니면 다 True"
      ],
      "execution_count": 16,
      "outputs": [
        {
          "output_type": "execute_result",
          "data": {
            "text/plain": [
              "(False, True)"
            ]
          },
          "metadata": {
            "tags": []
          },
          "execution_count": 16
        }
      ]
    },
    {
      "cell_type": "code",
      "metadata": {
        "colab": {
          "base_uri": "https://localhost:8080/"
        },
        "id": "bdu8pQjglWca",
        "outputId": "4ec4572a-52dd-4026-e11a-2d982aa8faba"
      },
      "source": [
        "bool(0.0), bool(1.), bool(-4.)"
      ],
      "execution_count": 18,
      "outputs": [
        {
          "output_type": "execute_result",
          "data": {
            "text/plain": [
              "(False, True, True)"
            ]
          },
          "metadata": {
            "tags": []
          },
          "execution_count": 18
        }
      ]
    },
    {
      "cell_type": "code",
      "metadata": {
        "colab": {
          "base_uri": "https://localhost:8080/"
        },
        "id": "Qsx75RZalmTE",
        "outputId": "45ca1e16-700c-4053-d034-89b5ad54a0d0"
      },
      "source": [
        "bool(''), bool(' '), bool('s')"
      ],
      "execution_count": 20,
      "outputs": [
        {
          "output_type": "execute_result",
          "data": {
            "text/plain": [
              "(False, True, True)"
            ]
          },
          "metadata": {
            "tags": []
          },
          "execution_count": 20
        }
      ]
    },
    {
      "cell_type": "code",
      "metadata": {
        "colab": {
          "base_uri": "https://localhost:8080/"
        },
        "id": "x6zhnUbglv52",
        "outputId": "fddafb49-570b-494a-fc9f-d188823058c5"
      },
      "source": [
        "if 4: \n",
        "  print('4 is True')"
      ],
      "execution_count": 21,
      "outputs": [
        {
          "output_type": "stream",
          "text": [
            "4 is True\n"
          ],
          "name": "stdout"
        }
      ]
    },
    {
      "cell_type": "code",
      "metadata": {
        "colab": {
          "base_uri": "https://localhost:8080/"
        },
        "id": "YPsT5cLAl7mx",
        "outputId": "ded0735d-b42f-47fb-9fb8-02e4e2b56456"
      },
      "source": [
        "int(True), int(False)"
      ],
      "execution_count": 22,
      "outputs": [
        {
          "output_type": "execute_result",
          "data": {
            "text/plain": [
              "(1, 0)"
            ]
          },
          "metadata": {
            "tags": []
          },
          "execution_count": 22
        }
      ]
    },
    {
      "cell_type": "code",
      "metadata": {
        "colab": {
          "base_uri": "https://localhost:8080/"
        },
        "id": "BtJRt4IcmPar",
        "outputId": "14a1e9c8-0629-4d2e-d33b-3964dc5d5550"
      },
      "source": [
        "1 or 'python'\n",
        "#1이 나오면 뒤에 값은 보지도 않고 1을 출력"
      ],
      "execution_count": 23,
      "outputs": [
        {
          "output_type": "execute_result",
          "data": {
            "text/plain": [
              "1"
            ]
          },
          "metadata": {
            "tags": []
          },
          "execution_count": 23
        }
      ]
    },
    {
      "cell_type": "code",
      "metadata": {
        "colab": {
          "base_uri": "https://localhost:8080/",
          "height": 36
        },
        "id": "ZjkUVSk4mi60",
        "outputId": "c688e115-3eaf-498b-e6c7-94c1d325b80a"
      },
      "source": [
        "0 or 'python'\n",
        "#0이 나오는 경우 두번째값 고려"
      ],
      "execution_count": 24,
      "outputs": [
        {
          "output_type": "execute_result",
          "data": {
            "application/vnd.google.colaboratory.intrinsic+json": {
              "type": "string"
            },
            "text/plain": [
              "'python'"
            ]
          },
          "metadata": {
            "tags": []
          },
          "execution_count": 24
        }
      ]
    },
    {
      "cell_type": "code",
      "metadata": {
        "colab": {
          "base_uri": "https://localhost:8080/",
          "height": 36
        },
        "id": "R_hRr5jDmoF1",
        "outputId": "ddbaf357-b2d2-48f0-a062-41600bbfc626"
      },
      "source": [
        "1 and 'python'\n",
        "#1은 무조건 맞으므로 and의 성립조건은 두번째인 'python'에 달려있으므로 'python' 출력"
      ],
      "execution_count": 26,
      "outputs": [
        {
          "output_type": "execute_result",
          "data": {
            "application/vnd.google.colaboratory.intrinsic+json": {
              "type": "string"
            },
            "text/plain": [
              "'python'"
            ]
          },
          "metadata": {
            "tags": []
          },
          "execution_count": 26
        }
      ]
    },
    {
      "cell_type": "code",
      "metadata": {
        "id": "K2dPuvn6mqLA"
      },
      "source": [
        ""
      ],
      "execution_count": null,
      "outputs": []
    },
    {
      "cell_type": "code",
      "metadata": {
        "id": "8acw2PW2nRSP"
      },
      "source": [
        ""
      ],
      "execution_count": null,
      "outputs": []
    }
  ]
}