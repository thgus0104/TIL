{
  "nbformat": 4,
  "nbformat_minor": 0,
  "metadata": {
    "colab": {
      "name": "0728과제_5회차_정소현.ipynb",
      "provenance": [],
      "collapsed_sections": []
    },
    "kernelspec": {
      "name": "python3",
      "display_name": "Python 3"
    },
    "language_info": {
      "name": "python"
    }
  },
  "cells": [
    {
      "cell_type": "markdown",
      "metadata": {
        "id": "UnMCBzhnxOBT"
      },
      "source": [
        "# Unit 8. 불과 비교,논리 연산자"
      ]
    },
    {
      "cell_type": "code",
      "metadata": {
        "colab": {
          "base_uri": "https://localhost:8080/"
        },
        "id": "VDj7dJ1nAnTt",
        "outputId": "9f81c38c-fb15-4887-d49a-83d47e66225c"
      },
      "source": [
        "korean, english, mathematics, science = map(int, input().split())\n",
        "print(korean >=90 and english >80 and mathematics >85 and science >=80)"
      ],
      "execution_count": 11,
      "outputs": [
        {
          "output_type": "stream",
          "text": [
            "100 50 100 100\n",
            "False\n"
          ],
          "name": "stdout"
        }
      ]
    },
    {
      "cell_type": "markdown",
      "metadata": {
        "id": "6H0omEQDDgR1"
      },
      "source": [
        "# Unit 9. 문자열"
      ]
    },
    {
      "cell_type": "code",
      "metadata": {
        "colab": {
          "base_uri": "https://localhost:8080/"
        },
        "id": "TCz2HdruBj-c",
        "outputId": "eec99a9f-84d5-4016-d823-23e329e7065d"
      },
      "source": [
        "s = \"\"\"'Python' is a \"programming language\"\n",
        "that lets you work quickly\n",
        "and\n",
        "integrate systems more effectively.\"\"\"\n",
        "\n",
        "print(s)"
      ],
      "execution_count": 13,
      "outputs": [
        {
          "output_type": "stream",
          "text": [
            "'Python' is a \"programming language\"\n",
            "that lets you work quickly\n",
            "and\n",
            "integrate systems more effectively.\n"
          ],
          "name": "stdout"
        }
      ]
    },
    {
      "cell_type": "code",
      "metadata": {
        "colab": {
          "base_uri": "https://localhost:8080/"
        },
        "id": "Jyap4EVlG-XB",
        "outputId": "184724fb-e54b-43bb-920d-5a2c003faef6"
      },
      "source": [
        "s = '''\\'Python' is a \"programming language\"\n",
        "that lets you work quickly\n",
        "and\n",
        "integrate systems more effectively.'''\n",
        "\n",
        "print(s)"
      ],
      "execution_count": 14,
      "outputs": [
        {
          "output_type": "stream",
          "text": [
            "'Python' is a \"programming language\"\n",
            "that lets you work quickly\n",
            "and\n",
            "integrate systems more effectively.\n"
          ],
          "name": "stdout"
        }
      ]
    },
    {
      "cell_type": "markdown",
      "metadata": {
        "id": "Ng4HWyk5GeFX"
      },
      "source": [
        "파이썬 상으로는 맞게 출력이 되는데 결과를 제출하면 자꾸 틀렸다고 나옵니다. 원인이 뭔지 모르겠습니다.\n",
        "\n",
        "<이하 오답 사유>\n",
        "\n",
        "-여러 줄로 된 문자열인데, 작은 따옴표와 큰 따옴표가 섞여 있습니다.\n",
        "\n",
        "먼저 문자열 Python is a programming language that lets you work quickly and integrate systems more effectively.를 실행 결과에 맞게 엔터키로 줄바꿈을 해줍니다. 그리고 Python은 '(작은 따옴표)로 묶어주고, programming language는 \"(큰 따옴표)로 묶어줍니다.\n",
        "\n",
        "마지막으로 이 문자열 전체를 '''(작은따옴표 3개) 또는 \"\"\"(큰 따옴표 3개)로 묶은 뒤 변수 s에 할당해주면 됩니다."
      ]
    },
    {
      "cell_type": "markdown",
      "metadata": {
        "id": "ATtCVY99HJDV"
      },
      "source": [
        "# Unit 10. 리스트와 튜플"
      ]
    },
    {
      "cell_type": "code",
      "metadata": {
        "colab": {
          "base_uri": "https://localhost:8080/"
        },
        "id": "-HSU3zxpEH8d",
        "outputId": "8d4bd6d8-9603-4ff9-fe92-d5fbd138d51e"
      },
      "source": [
        "a = list(range(-10,10,int(input())))\n",
        "b= tuple(a)\n",
        "print(b)"
      ],
      "execution_count": 21,
      "outputs": [
        {
          "output_type": "stream",
          "text": [
            "2\n",
            "(-10, -8, -6, -4, -2, 0, 2, 4, 6, 8)\n"
          ],
          "name": "stdout"
        }
      ]
    },
    {
      "cell_type": "markdown",
      "metadata": {
        "id": "r79Wlb9ZI0Vv"
      },
      "source": [
        "# Unit 11. 시퀀스(Sequence)"
      ]
    },
    {
      "cell_type": "code",
      "metadata": {
        "colab": {
          "base_uri": "https://localhost:8080/"
        },
        "id": "9Mwwt-JbHgzg",
        "outputId": "6b73f9ab-9bc1-46b5-e49c-07ec55e2d8a8"
      },
      "source": [
        "x = input().split()\n",
        "del x[-5:]\n",
        "y = tuple(x)\n",
        "print(y)"
      ],
      "execution_count": 33,
      "outputs": [
        {
          "output_type": "stream",
          "text": [
            "1 2 3 4 5 6 7 8 9 10\n",
            "('1', '2', '3', '4', '5')\n"
          ],
          "name": "stdout"
        }
      ]
    },
    {
      "cell_type": "code",
      "metadata": {
        "colab": {
          "base_uri": "https://localhost:8080/"
        },
        "id": "b2pR48PuLYLc",
        "outputId": "d144c85b-3f34-4ba6-a5ce-461686cd641d"
      },
      "source": [
        "a = input()\n",
        "b = input()\n",
        "c = a[1::2]\n",
        "d = b[::2]\n",
        "print(c+d)"
      ],
      "execution_count": 45,
      "outputs": [
        {
          "output_type": "stream",
          "text": [
            "apple\n",
            "strawberry\n",
            "plsrwer\n"
          ],
          "name": "stdout"
        }
      ]
    },
    {
      "cell_type": "markdown",
      "metadata": {
        "id": "W0j28WwfPlot"
      },
      "source": [
        "# Unit 12. 딕셔너리"
      ]
    },
    {
      "cell_type": "code",
      "metadata": {
        "colab": {
          "base_uri": "https://localhost:8080/"
        },
        "id": "0J6DVjpmNKFq",
        "outputId": "8f615bb9-269c-4452-eaef-5d57e7151c16"
      },
      "source": [
        "a = input().split()\n",
        "b = map(float, input().split())\n",
        "c = dict(zip(a, b))\n",
        "print(c)"
      ],
      "execution_count": 58,
      "outputs": [
        {
          "output_type": "stream",
          "text": [
            "a b c d\n",
            "1 2 3 4\n",
            "{'a': 1.0, 'b': 2.0, 'c': 3.0, 'd': 4.0}\n"
          ],
          "name": "stdout"
        }
      ]
    },
    {
      "cell_type": "markdown",
      "metadata": {
        "id": "Kqf54r23Uv5e"
      },
      "source": [
        "# Unit 13. If조건문"
      ]
    },
    {
      "cell_type": "code",
      "metadata": {
        "colab": {
          "base_uri": "https://localhost:8080/"
        },
        "id": "DqUxNhQuQvPh",
        "outputId": "5c293407-16a2-4264-98a3-1b88b3bda6e9"
      },
      "source": [
        "price = int(input())\n",
        "b = input()\n",
        "if b == 'Cash3000':\n",
        "  price -= 3000\n",
        "if b == 'Cash5000':\n",
        "  price -= 5000\n",
        "print(price)"
      ],
      "execution_count": 76,
      "outputs": [
        {
          "output_type": "stream",
          "text": [
            "27000\n",
            "Cash3000\n",
            "24000\n"
          ],
          "name": "stdout"
        }
      ]
    },
    {
      "cell_type": "markdown",
      "metadata": {
        "id": "APHUbHwhdp7a"
      },
      "source": [
        "# Unit 14. Else"
      ]
    },
    {
      "cell_type": "code",
      "metadata": {
        "colab": {
          "base_uri": "https://localhost:8080/"
        },
        "id": "EYnNOm1oZaye",
        "outputId": "051c9250-222e-4bef-f29d-13732e35a30d"
      },
      "source": [
        "korean, english, mathematics, science = map(int, input().split())\n",
        "if 0 <= korean <= 100 and 0 <= english <= 100 and 0 <= mathematics <= 100 and 0 <= science <= 100:\n",
        "  if (korean + english + mathematics + science) / 4 >= 80:\n",
        "    print('합격')\n",
        "  else:\n",
        "    print('불합격')\n",
        "else:\n",
        "  print('잘못된 점수')"
      ],
      "execution_count": 101,
      "outputs": [
        {
          "output_type": "stream",
          "text": [
            "10 20 30 40\n",
            "불합격\n"
          ],
          "name": "stdout"
        }
      ]
    },
    {
      "cell_type": "code",
      "metadata": {
        "id": "s1MGXtNMeol_"
      },
      "source": [
        ""
      ],
      "execution_count": 80,
      "outputs": []
    }
  ]
}