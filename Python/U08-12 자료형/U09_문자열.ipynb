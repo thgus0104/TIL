{
  "nbformat": 4,
  "nbformat_minor": 0,
  "metadata": {
    "colab": {
      "name": "U09.ipynb",
      "provenance": [],
      "collapsed_sections": []
    },
    "kernelspec": {
      "name": "python3",
      "display_name": "Python 3"
    },
    "language_info": {
      "name": "python"
    }
  },
  "cells": [
    {
      "cell_type": "markdown",
      "metadata": {
        "id": "1PokeotUcS4n"
      },
      "source": [
        "# Unit 9. 문자열\n",
        "\n"
      ]
    },
    {
      "cell_type": "code",
      "metadata": {
        "colab": {
          "base_uri": "https://localhost:8080/"
        },
        "id": "z3hIcc6QcQdC",
        "outputId": "191b8090-d16a-4fa0-f775-33eb93b68a1c"
      },
      "source": [
        "#따옴표 뭘로 적용하든 단축어 설정에 상관은 없음\n",
        "hello = 'Hello world!'\n",
        "hello2 = \"Hello world!\"\n",
        "hello, hello2"
      ],
      "execution_count": 2,
      "outputs": [
        {
          "output_type": "execute_result",
          "data": {
            "text/plain": [
              "('Hello world!', 'Hello world!')"
            ]
          },
          "metadata": {
            "tags": []
          },
          "execution_count": 2
        }
      ]
    },
    {
      "cell_type": "code",
      "metadata": {
        "colab": {
          "base_uri": "https://localhost:8080/",
          "height": 36
        },
        "id": "YceVILYVc-c7",
        "outputId": "4e107fa3-4e1b-43f9-e5de-daf45fe19b44"
      },
      "source": [
        "multiline = '''Hello!\n",
        "world!'''\n",
        "multiline"
      ],
      "execution_count": 3,
      "outputs": [
        {
          "output_type": "execute_result",
          "data": {
            "application/vnd.google.colaboratory.intrinsic+json": {
              "type": "string"
            },
            "text/plain": [
              "'Hello!\\nworld!'"
            ]
          },
          "metadata": {
            "tags": []
          },
          "execution_count": 3
        }
      ]
    },
    {
      "cell_type": "code",
      "metadata": {
        "colab": {
          "base_uri": "https://localhost:8080/",
          "height": 36
        },
        "id": "teCRoEZDd3Cs",
        "outputId": "2a1c5001-90e0-4dec-ba22-178d1ad30bdd"
      },
      "source": [
        "multi = 'Hello\\nworld!'\n",
        "multi"
      ],
      "execution_count": 5,
      "outputs": [
        {
          "output_type": "execute_result",
          "data": {
            "application/vnd.google.colaboratory.intrinsic+json": {
              "type": "string"
            },
            "text/plain": [
              "'Hello\\nworld!'"
            ]
          },
          "metadata": {
            "tags": []
          },
          "execution_count": 5
        }
      ]
    },
    {
      "cell_type": "code",
      "metadata": {
        "colab": {
          "base_uri": "https://localhost:8080/"
        },
        "id": "b1OB-gmUeDC0",
        "outputId": "40b451e5-22c8-42b6-c8e6-2b903d938d8e"
      },
      "source": [
        "print(multi)"
      ],
      "execution_count": 6,
      "outputs": [
        {
          "output_type": "stream",
          "text": [
            "Hello\n",
            "world!\n"
          ],
          "name": "stdout"
        }
      ]
    },
    {
      "cell_type": "code",
      "metadata": {
        "colab": {
          "base_uri": "https://localhost:8080/"
        },
        "id": "sIu6M-dCeK2V",
        "outputId": "67a816b9-c753-4bda-9be8-81ae50eae772"
      },
      "source": [
        "print(multiline)"
      ],
      "execution_count": 7,
      "outputs": [
        {
          "output_type": "stream",
          "text": [
            "Hello!\n",
            "world!\n"
          ],
          "name": "stdout"
        }
      ]
    },
    {
      "cell_type": "code",
      "metadata": {
        "colab": {
          "base_uri": "https://localhost:8080/",
          "height": 139
        },
        "id": "C0IAeAv8eO18",
        "outputId": "2870f524-d1f1-449f-ab0e-99dbcffc4143"
      },
      "source": [
        "s = 'Pythons isn't difficult.'\n",
        "s\n",
        "#isn't에 따옴표가 있는 바람에 Python isn이 하나의 스트링으로 묶여서 에러가 남"
      ],
      "execution_count": 10,
      "outputs": [
        {
          "output_type": "error",
          "ename": "SyntaxError",
          "evalue": "ignored",
          "traceback": [
            "\u001b[0;36m  File \u001b[0;32m\"<ipython-input-10-363bf71f1bc4>\"\u001b[0;36m, line \u001b[0;32m1\u001b[0m\n\u001b[0;31m    s = 'Pythons isn't difficult.'\u001b[0m\n\u001b[0m                     ^\u001b[0m\n\u001b[0;31mSyntaxError\u001b[0m\u001b[0;31m:\u001b[0m invalid syntax\n"
          ]
        }
      ]
    },
    {
      "cell_type": "code",
      "metadata": {
        "colab": {
          "base_uri": "https://localhost:8080/",
          "height": 36
        },
        "id": "J8zbvXadeh1s",
        "outputId": "d43b59a5-63e8-4aa4-b2e7-0ef9a1c71d23"
      },
      "source": [
        "s = \"Python isn't difficult\"\n",
        "s"
      ],
      "execution_count": 11,
      "outputs": [
        {
          "output_type": "execute_result",
          "data": {
            "application/vnd.google.colaboratory.intrinsic+json": {
              "type": "string"
            },
            "text/plain": [
              "\"Python isn't difficult\""
            ]
          },
          "metadata": {
            "tags": []
          },
          "execution_count": 11
        }
      ]
    },
    {
      "cell_type": "code",
      "metadata": {
        "colab": {
          "base_uri": "https://localhost:8080/",
          "height": 36
        },
        "id": "by8xz2goellH",
        "outputId": "5e8f4ed6-5fe1-4c1a-fcd3-00e30bd357dc"
      },
      "source": [
        "s = 'Alice said \"I love you\"'\n",
        "s"
      ],
      "execution_count": 12,
      "outputs": [
        {
          "output_type": "execute_result",
          "data": {
            "application/vnd.google.colaboratory.intrinsic+json": {
              "type": "string"
            },
            "text/plain": [
              "'Alice said \"I love you\"'"
            ]
          },
          "metadata": {
            "tags": []
          },
          "execution_count": 12
        }
      ]
    },
    {
      "cell_type": "code",
      "metadata": {
        "colab": {
          "base_uri": "https://localhost:8080/",
          "height": 36
        },
        "id": "c-wIYZY5ev3P",
        "outputId": "912473bd-9526-45df-bf32-433c9cd99ec0"
      },
      "source": [
        "s = 'Pythons isn\\'t difficult.'\n",
        "s\n",
        "#따옴표 앞에 백슬래쉬는 그 다음에 나오는게 의미가 없게 만들어줌\n",
        "#(만야 의미가 없었다면 있게 만들어줌)"
      ],
      "execution_count": 13,
      "outputs": [
        {
          "output_type": "execute_result",
          "data": {
            "application/vnd.google.colaboratory.intrinsic+json": {
              "type": "string"
            },
            "text/plain": [
              "\"Pythons isn't difficult.\""
            ]
          },
          "metadata": {
            "tags": []
          },
          "execution_count": 13
        }
      ]
    },
    {
      "cell_type": "code",
      "metadata": {
        "id": "2s3XBR5QfINT"
      },
      "source": [
        ""
      ],
      "execution_count": null,
      "outputs": []
    }
  ]
}