{
  "nbformat": 4,
  "nbformat_minor": 0,
  "metadata": {
    "colab": {
      "name": "U10.ipynb",
      "provenance": [],
      "collapsed_sections": []
    },
    "kernelspec": {
      "name": "python3",
      "display_name": "Python 3"
    },
    "language_info": {
      "name": "python"
    }
  },
  "cells": [
    {
      "cell_type": "markdown",
      "metadata": {
        "id": "pzaqWLXyhZwm"
      },
      "source": [
        "# Unit 10. 리스트와 듀플\n",
        "\n",
        "\n",
        "*   []:리스트\n",
        "*   ():듀플\n",
        "*   {}:딕셔너리,세트(집합)\n",
        "*   np []: 어레이"
      ]
    },
    {
      "cell_type": "code",
      "metadata": {
        "colab": {
          "base_uri": "https://localhost:8080/"
        },
        "id": "RFbU7VKRhYIQ",
        "outputId": "6286f567-af30-4479-f8a1-49646c8d524f"
      },
      "source": [
        "a = [38, 21, 53, 62, 19]\n",
        "a"
      ],
      "execution_count": 1,
      "outputs": [
        {
          "output_type": "execute_result",
          "data": {
            "text/plain": [
              "[38, 21, 53, 62, 19]"
            ]
          },
          "metadata": {
            "tags": []
          },
          "execution_count": 1
        }
      ]
    },
    {
      "cell_type": "code",
      "metadata": {
        "colab": {
          "base_uri": "https://localhost:8080/"
        },
        "id": "HsViFWwdiZdo",
        "outputId": "3ad3f8ab-c3a7-45f8-a850-cf26cb43d0ea"
      },
      "source": [
        "#파이썬에서는 리스트 엘리먼트가 다른 자료형도 가능\n",
        "person = ['james', 19 ,175.4, True,[120, 80]] #남녀 묻는 질문 True\n",
        "person"
      ],
      "execution_count": 4,
      "outputs": [
        {
          "output_type": "execute_result",
          "data": {
            "text/plain": [
              "['james', 19, 175.4, True, [120, 80]]"
            ]
          },
          "metadata": {
            "tags": []
          },
          "execution_count": 4
        }
      ]
    },
    {
      "cell_type": "code",
      "metadata": {
        "colab": {
          "base_uri": "https://localhost:8080/"
        },
        "id": "5cojMEgiio0W",
        "outputId": "06f9d5de-8710-4cd0-d50b-354a2da1c8bc"
      },
      "source": [
        "#위의 person은 다음과 같은 딕셔너리로 변경하는 것을 권장\n",
        "person_dict = {'name':'james', 'age':19 , 'height':175.4, 'is male':True, 'bp':[120, 80]}\n",
        "person_dict\n",
        "#여러 자료형을 쓸 땐 딕셔너리 사용 권장(의미를 알기 쉽게 하기 위해)\n",
        "#딕셔너리는 순서가 보장되지 않는 리스트 형태 아래 출력값보면 abc순으로 임의 나열함/"
      ],
      "execution_count": 9,
      "outputs": [
        {
          "output_type": "execute_result",
          "data": {
            "text/plain": [
              "{'age': 19, 'bp': [120, 80], 'height': 175.4, 'is male': True, 'name': 'james'}"
            ]
          },
          "metadata": {
            "tags": []
          },
          "execution_count": 9
        }
      ]
    },
    {
      "cell_type": "markdown",
      "metadata": {
        "id": "4fd6k5D9j8J1"
      },
      "source": [
        "## 빈 리스트 만들기"
      ]
    },
    {
      "cell_type": "code",
      "metadata": {
        "colab": {
          "base_uri": "https://localhost:8080/"
        },
        "id": "Bc843KrVj8NZ",
        "outputId": "d8712f51-afa9-4ee0-9645-dce97108e968"
      },
      "source": [
        "a = []\n",
        "b = list()\n",
        "a, b"
      ],
      "execution_count": 8,
      "outputs": [
        {
          "output_type": "execute_result",
          "data": {
            "text/plain": [
              "([], [])"
            ]
          },
          "metadata": {
            "tags": []
          },
          "execution_count": 8
        }
      ]
    },
    {
      "cell_type": "code",
      "metadata": {
        "colab": {
          "base_uri": "https://localhost:8080/"
        },
        "id": "WZFnFgJLjdDF",
        "outputId": "68b15e07-89d3-4010-8e1c-f5dd1f76e0d8"
      },
      "source": [
        "a, b = [], []\n",
        "a, b\n",
        "#빈 리스트를 여러개 만들때 이와 같이 한꺼번에 만드는게 조금 더 파이썬스러움"
      ],
      "execution_count": 11,
      "outputs": [
        {
          "output_type": "execute_result",
          "data": {
            "text/plain": [
              "([], [])"
            ]
          },
          "metadata": {
            "tags": []
          },
          "execution_count": 11
        }
      ]
    },
    {
      "cell_type": "markdown",
      "metadata": {
        "id": "0GY3HevQkgFB"
      },
      "source": [
        "### range\n",
        "-range([시작숫자,] 끝나는 숫자+1 [ 증가분])\n",
        "-꺽쇠가 포함된 것은 생략 가능하다는 의미\n",
        "시작 숫자 생략시 기본 0에서 시작"
      ]
    },
    {
      "cell_type": "code",
      "metadata": {
        "colab": {
          "base_uri": "https://localhost:8080/"
        },
        "id": "yKHM2-6okYps",
        "outputId": "e37f613b-90c9-4830-d2fe-54956b1141da"
      },
      "source": [
        "a = range(10)\n",
        "a"
      ],
      "execution_count": 12,
      "outputs": [
        {
          "output_type": "execute_result",
          "data": {
            "text/plain": [
              "range(0, 10)"
            ]
          },
          "metadata": {
            "tags": []
          },
          "execution_count": 12
        }
      ]
    },
    {
      "cell_type": "code",
      "metadata": {
        "colab": {
          "base_uri": "https://localhost:8080/"
        },
        "id": "k1dmxPOLlEKn",
        "outputId": "1efce4e0-a843-4686-c70d-c803286f573f"
      },
      "source": [
        "list(a)"
      ],
      "execution_count": 13,
      "outputs": [
        {
          "output_type": "execute_result",
          "data": {
            "text/plain": [
              "[0, 1, 2, 3, 4, 5, 6, 7, 8, 9]"
            ]
          },
          "metadata": {
            "tags": []
          },
          "execution_count": 13
        }
      ]
    },
    {
      "cell_type": "code",
      "metadata": {
        "colab": {
          "base_uri": "https://localhost:8080/"
        },
        "id": "M85AS8rKlHWC",
        "outputId": "fea3a545-1433-4a61-fb70-d03b07561c03"
      },
      "source": [
        "list(range(1,11))\n",
        "#근데 이렇게 1에서부터 시작하는 일은 잘 없음\n",
        "#0에서부터 시작하는 것에 익숙해져야~"
      ],
      "execution_count": 15,
      "outputs": [
        {
          "output_type": "execute_result",
          "data": {
            "text/plain": [
              "[1, 2, 3, 4, 5, 6, 7, 8, 9, 10]"
            ]
          },
          "metadata": {
            "tags": []
          },
          "execution_count": 15
        }
      ]
    },
    {
      "cell_type": "code",
      "metadata": {
        "colab": {
          "base_uri": "https://localhost:8080/"
        },
        "id": "PjYgol29lbGu",
        "outputId": "c7b4d1bd-132b-413e-a5e5-6cb35f1f0bd2"
      },
      "source": [
        "#홀수 만들기(1에서 10까지 2씩 뛰어세는 수)\n",
        "list(range(1,10,2))"
      ],
      "execution_count": 17,
      "outputs": [
        {
          "output_type": "execute_result",
          "data": {
            "text/plain": [
              "[1, 3, 5, 7, 9]"
            ]
          },
          "metadata": {
            "tags": []
          },
          "execution_count": 17
        }
      ]
    },
    {
      "cell_type": "code",
      "metadata": {
        "colab": {
          "base_uri": "https://localhost:8080/"
        },
        "id": "QeAhu4lAl0SB",
        "outputId": "10f3a537-f01e-44fa-8428-56001b7e5ba3"
      },
      "source": [
        "#짝수 만들기\n",
        "list(range(2,11,2))"
      ],
      "execution_count": 18,
      "outputs": [
        {
          "output_type": "execute_result",
          "data": {
            "text/plain": [
              "[2, 4, 6, 8, 10]"
            ]
          },
          "metadata": {
            "tags": []
          },
          "execution_count": 18
        }
      ]
    },
    {
      "cell_type": "code",
      "metadata": {
        "colab": {
          "base_uri": "https://localhost:8080/"
        },
        "id": "qyOz2ARUl_Zv",
        "outputId": "c5d20807-6359-4eca-a099-1f605ef562e0"
      },
      "source": [
        "list(range(10,0,-1))"
      ],
      "execution_count": 21,
      "outputs": [
        {
          "output_type": "execute_result",
          "data": {
            "text/plain": [
              "[10, 9, 8, 7, 6, 5, 4, 3, 2, 1]"
            ]
          },
          "metadata": {
            "tags": []
          },
          "execution_count": 21
        }
      ]
    },
    {
      "cell_type": "markdown",
      "metadata": {
        "id": "Gam-sQMtoxRY"
      },
      "source": [
        "## 10.2 튜플(tuple)\n",
        "read only 특성(변경불가)"
      ]
    },
    {
      "cell_type": "code",
      "metadata": {
        "colab": {
          "base_uri": "https://localhost:8080/"
        },
        "id": "NTj50c2go1zx",
        "outputId": "f45d59f7-04ac-4240-82dd-64dd10b5fd7f"
      },
      "source": [
        "a = (38, 21, 47)\n",
        "a"
      ],
      "execution_count": 22,
      "outputs": [
        {
          "output_type": "execute_result",
          "data": {
            "text/plain": [
              "(38, 21, 47)"
            ]
          },
          "metadata": {
            "tags": []
          },
          "execution_count": 22
        }
      ]
    },
    {
      "cell_type": "code",
      "metadata": {
        "colab": {
          "base_uri": "https://localhost:8080/"
        },
        "id": "Ntx3LfSFpEYX",
        "outputId": "e9a2e5b2-4735-4723-f32d-453759b176cc"
      },
      "source": [
        "a = 38, 21, 47\n",
        "a\n",
        "#comma로 쭉 나열하기만 해도 된다(이게 큐플)\n",
        "#그동안 a,b설정하고 출력하기 위해 a,b이렇게 썼던 것도 다 큐플임"
      ],
      "execution_count": 25,
      "outputs": [
        {
          "output_type": "execute_result",
          "data": {
            "text/plain": [
              "(38, 21, 47)"
            ]
          },
          "metadata": {
            "tags": []
          },
          "execution_count": 25
        }
      ]
    },
    {
      "cell_type": "code",
      "metadata": {
        "colab": {
          "base_uri": "https://localhost:8080/"
        },
        "id": "pF2u12_ypHyn",
        "outputId": "3ca29f5f-5f28-4ac3-e54b-a54d9e97fd09"
      },
      "source": [
        "a = tuple()\n",
        "a\n",
        "#빈 튜플 만들기 가능/근데 만드는게 의미가 없음\n",
        "#리스트는 빈 리스트를 만든 후 계속 채워나갈 수 가 있는데 튜플은 변경이 안되기 때문에 의미가 없음"
      ],
      "execution_count": 28,
      "outputs": [
        {
          "output_type": "execute_result",
          "data": {
            "text/plain": [
              "()"
            ]
          },
          "metadata": {
            "tags": []
          },
          "execution_count": 28
        }
      ]
    },
    {
      "cell_type": "code",
      "metadata": {
        "colab": {
          "base_uri": "https://localhost:8080/"
        },
        "id": "FlI5ex66p3Kx",
        "outputId": "b50fcb75-d24d-4f6b-f64e-09b127928684"
      },
      "source": [
        "#a는 정수\n",
        "a = (38)\n",
        "a"
      ],
      "execution_count": 31,
      "outputs": [
        {
          "output_type": "execute_result",
          "data": {
            "text/plain": [
              "38"
            ]
          },
          "metadata": {
            "tags": []
          },
          "execution_count": 31
        }
      ]
    },
    {
      "cell_type": "code",
      "metadata": {
        "colab": {
          "base_uri": "https://localhost:8080/"
        },
        "id": "sOBZuwVCqPQT",
        "outputId": "3643118c-9a10-482e-aa6d-827c39d0a7d8"
      },
      "source": [
        "#a는 튜플(원소가 하나인 튜플)\n",
        "a = (38,)\n",
        "a"
      ],
      "execution_count": 34,
      "outputs": [
        {
          "output_type": "execute_result",
          "data": {
            "text/plain": [
              "(38,)"
            ]
          },
          "metadata": {
            "tags": []
          },
          "execution_count": 34
        }
      ]
    },
    {
      "cell_type": "code",
      "metadata": {
        "colab": {
          "base_uri": "https://localhost:8080/"
        },
        "id": "ImBmPMRnqUhr",
        "outputId": "ef6c475e-2f58-47a0-e842-a0c9e65e62b9"
      },
      "source": [
        "tuple(range(5))"
      ],
      "execution_count": 35,
      "outputs": [
        {
          "output_type": "execute_result",
          "data": {
            "text/plain": [
              "(0, 1, 2, 3, 4)"
            ]
          },
          "metadata": {
            "tags": []
          },
          "execution_count": 35
        }
      ]
    },
    {
      "cell_type": "markdown",
      "metadata": {
        "id": "GpXi6DdDrDxo"
      },
      "source": [
        "###리스트 <-> 튜플"
      ]
    },
    {
      "cell_type": "code",
      "metadata": {
        "colab": {
          "base_uri": "https://localhost:8080/"
        },
        "id": "-nl3-DLArIIZ",
        "outputId": "b5b37396-e4d1-4ee4-da8d-ab316b203397"
      },
      "source": [
        "#리스트에서 튜플로\n",
        "a = [1, 3, 4]\n",
        "b=tuple(a)\n",
        "b"
      ],
      "execution_count": 39,
      "outputs": [
        {
          "output_type": "execute_result",
          "data": {
            "text/plain": [
              "(1, 3, 4)"
            ]
          },
          "metadata": {
            "tags": []
          },
          "execution_count": 39
        }
      ]
    },
    {
      "cell_type": "code",
      "metadata": {
        "colab": {
          "base_uri": "https://localhost:8080/"
        },
        "id": "nn9rJlE0rQEX",
        "outputId": "96a9e469-e709-4a92-dc44-d47095e94863"
      },
      "source": [
        "#튜플에서 리스트로\n",
        "c = list(b)\n",
        "c"
      ],
      "execution_count": 40,
      "outputs": [
        {
          "output_type": "execute_result",
          "data": {
            "text/plain": [
              "[1, 3, 4]"
            ]
          },
          "metadata": {
            "tags": []
          },
          "execution_count": 40
        }
      ]
    },
    {
      "cell_type": "code",
      "metadata": {
        "colab": {
          "base_uri": "https://localhost:8080/",
          "height": 195
        },
        "id": "6do2jgVErXpQ",
        "outputId": "1b3f0470-76d2-4928-86e4-5fc5af314b6a"
      },
      "source": [
        "x = 10\n",
        "tuple(x)"
      ],
      "execution_count": 41,
      "outputs": [
        {
          "output_type": "error",
          "ename": "TypeError",
          "evalue": "ignored",
          "traceback": [
            "\u001b[0;31m---------------------------------------------------------------------------\u001b[0m",
            "\u001b[0;31mTypeError\u001b[0m                                 Traceback (most recent call last)",
            "\u001b[0;32m<ipython-input-41-cde32f6dd086>\u001b[0m in \u001b[0;36m<module>\u001b[0;34m()\u001b[0m\n\u001b[1;32m      1\u001b[0m \u001b[0mx\u001b[0m \u001b[0;34m=\u001b[0m \u001b[0;36m10\u001b[0m\u001b[0;34m\u001b[0m\u001b[0;34m\u001b[0m\u001b[0m\n\u001b[0;32m----> 2\u001b[0;31m \u001b[0mtuple\u001b[0m\u001b[0;34m(\u001b[0m\u001b[0mx\u001b[0m\u001b[0;34m)\u001b[0m\u001b[0;34m\u001b[0m\u001b[0;34m\u001b[0m\u001b[0m\n\u001b[0m",
            "\u001b[0;31mTypeError\u001b[0m: 'int' object is not iterable"
          ]
        }
      ]
    },
    {
      "cell_type": "markdown",
      "metadata": {
        "id": "V-sDxCP6rnVr"
      },
      "source": [
        "###문자열"
      ]
    },
    {
      "cell_type": "code",
      "metadata": {
        "colab": {
          "base_uri": "https://localhost:8080/"
        },
        "id": "rWEcctF0rq9N",
        "outputId": "cb928e2b-23c5-4c65-f4f1-eef3bd1ad0d0"
      },
      "source": [
        "tuple('Hello!')"
      ],
      "execution_count": 43,
      "outputs": [
        {
          "output_type": "execute_result",
          "data": {
            "text/plain": [
              "('H', 'e', 'l', 'l', 'o', '!')"
            ]
          },
          "metadata": {
            "tags": []
          },
          "execution_count": 43
        }
      ]
    },
    {
      "cell_type": "code",
      "metadata": {
        "colab": {
          "base_uri": "https://localhost:8080/"
        },
        "id": "tXNXnorartv0",
        "outputId": "a3855449-8a3c-47e7-baab-49d1ac454250"
      },
      "source": [
        "list('안녕하세요')"
      ],
      "execution_count": 44,
      "outputs": [
        {
          "output_type": "execute_result",
          "data": {
            "text/plain": [
              "['안', '녕', '하', '세', '요']"
            ]
          },
          "metadata": {
            "tags": []
          },
          "execution_count": 44
        }
      ]
    },
    {
      "cell_type": "markdown",
      "metadata": {
        "id": "fYWEH0DMr9Wd"
      },
      "source": [
        "### 언팩킹(Unpacking)"
      ]
    },
    {
      "cell_type": "code",
      "metadata": {
        "colab": {
          "base_uri": "https://localhost:8080/"
        },
        "id": "BET4izSasBuV",
        "outputId": "55ef9962-31d8-408b-8d65-890b8a20133d"
      },
      "source": [
        "a = (1, 3, 4)\n",
        "x, y, z = a\n",
        "x, y, z\n",
        "#x=1,y=3,z=4가 됨\n",
        "#엘리먼트의 개수가 맞으면 큐플은 각각 하나씩만 넘겨줄 수 있음"
      ],
      "execution_count": 47,
      "outputs": [
        {
          "output_type": "execute_result",
          "data": {
            "text/plain": [
              "(1, 3, 4)"
            ]
          },
          "metadata": {
            "tags": []
          },
          "execution_count": 47
        }
      ]
    },
    {
      "cell_type": "code",
      "metadata": {
        "colab": {
          "base_uri": "https://localhost:8080/"
        },
        "id": "b07CdudcsK4p",
        "outputId": "66f0d3c2-e0b6-45e6-cd64-cb0a421f02d1"
      },
      "source": [
        "#list unpacking\n",
        "x, y, z = [1, 3, 5]\n",
        "x, y, z"
      ],
      "execution_count": 49,
      "outputs": [
        {
          "output_type": "execute_result",
          "data": {
            "text/plain": [
              "(1, 3, 5)"
            ]
          },
          "metadata": {
            "tags": []
          },
          "execution_count": 49
        }
      ]
    },
    {
      "cell_type": "code",
      "metadata": {
        "colab": {
          "base_uri": "https://localhost:8080/"
        },
        "id": "dekHmQTgsb52",
        "outputId": "94dff4a3-f642-495f-e3d5-725708af9d46"
      },
      "source": [
        "#튜플 언팩킹\n",
        "x, y, z = 1, 3, 5\n",
        "x, y, z"
      ],
      "execution_count": 52,
      "outputs": [
        {
          "output_type": "execute_result",
          "data": {
            "text/plain": [
              "(1, 3, 5)"
            ]
          },
          "metadata": {
            "tags": []
          },
          "execution_count": 52
        }
      ]
    },
    {
      "cell_type": "code",
      "metadata": {
        "id": "HyZJV9QptHbN"
      },
      "source": [
        ""
      ],
      "execution_count": null,
      "outputs": []
    }
  ]
}