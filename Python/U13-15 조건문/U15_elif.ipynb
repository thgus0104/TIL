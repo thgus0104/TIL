{
  "nbformat": 4,
  "nbformat_minor": 0,
  "metadata": {
    "colab": {
      "name": "U15_elif.ipynb",
      "provenance": [],
      "collapsed_sections": []
    },
    "kernelspec": {
      "name": "python3",
      "display_name": "Python 3"
    },
    "language_info": {
      "name": "python"
    }
  },
  "cells": [
    {
      "cell_type": "markdown",
      "metadata": {
        "id": "-RiN5r1koEgD"
      },
      "source": [
        "# Unit 15. Elif"
      ]
    },
    {
      "cell_type": "code",
      "metadata": {
        "colab": {
          "base_uri": "https://localhost:8080/"
        },
        "id": "Y9l6jLs4oA0R",
        "outputId": "3e6648b5-a0be-43a6-bbf5-c42297b75664"
      },
      "source": [
        "x = 15\n",
        "if x ==10:\n",
        "  print('It is 10.')\n",
        "elif x == 20:\n",
        "  print('It is 20.')\n",
        "else:\n",
        "  print('10,20이 아닙니다')"
      ],
      "execution_count": 1,
      "outputs": [
        {
          "output_type": "stream",
          "text": [
            "10,20이 아닙니다\n"
          ],
          "name": "stdout"
        }
      ]
    },
    {
      "cell_type": "code",
      "metadata": {
        "colab": {
          "base_uri": "https://localhost:8080/"
        },
        "id": "11u2CU-0oucQ",
        "outputId": "1405638c-bb52-4625-c12b-4987a2048eb2"
      },
      "source": [
        "# 숫자 - 입력, 3의 배수면 fizz, 5의 배수면 buzz, 15의 배수면 fizzbuzz\n",
        "x = int(input())\n",
        "if x % 15 == 0: #제일작은 조건을 제일 우선배치\n",
        "  print('fizzbuzz')\n",
        "elif x % 5 == 0:\n",
        "  print ('buzz')\n",
        "elif x % 3 == 0:\n",
        "  print ('fizz')\n",
        "else:\n",
        "  print(x)"
      ],
      "execution_count": 9,
      "outputs": [
        {
          "output_type": "stream",
          "text": [
            "7\n",
            "7\n"
          ],
          "name": "stdout"
        }
      ]
    },
    {
      "cell_type": "code",
      "metadata": {
        "colab": {
          "base_uri": "https://localhost:8080/"
        },
        "id": "JCNiwei-r7id",
        "outputId": "4ea7d06e-cc04-4440-dc3d-d6ca5d04e7fa"
      },
      "source": [
        "'Fizz'*False, 'Buzz'*True\n",
        "#False면 null이 출력됨"
      ],
      "execution_count": 15,
      "outputs": [
        {
          "output_type": "execute_result",
          "data": {
            "text/plain": [
              "('', 'Buzz')"
            ]
          },
          "metadata": {
            "tags": []
          },
          "execution_count": 15
        }
      ]
    },
    {
      "cell_type": "code",
      "metadata": {
        "colab": {
          "base_uri": "https://localhost:8080/"
        },
        "id": "COOQK-bgpgdt",
        "outputId": "c80a1beb-9450-47e7-d7cb-1e68541c7ead"
      },
      "source": [
        "#위에꺼 한 줄로 쓰는 법\n",
        "number = int(input())\n",
        "print('Fizz'*(number%3==0) + 'Buzz'*(number%5==0) or number)\n",
        "#or 이하는 앞의 것이 False일때만 작용->null나오는 것 방지"
      ],
      "execution_count": 16,
      "outputs": [
        {
          "output_type": "stream",
          "text": [
            "30\n",
            "FizzBuzz\n"
          ],
          "name": "stdout"
        }
      ]
    },
    {
      "cell_type": "code",
      "metadata": {
        "id": "gVsoXfbkrhIY"
      },
      "source": [
        ""
      ],
      "execution_count": null,
      "outputs": []
    }
  ]
}