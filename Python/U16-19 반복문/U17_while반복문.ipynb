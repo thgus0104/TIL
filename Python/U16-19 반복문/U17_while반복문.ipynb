{
  "nbformat": 4,
  "nbformat_minor": 0,
  "metadata": {
    "colab": {
      "name": "U17_while반복문.ipynb",
      "provenance": [],
      "collapsed_sections": []
    },
    "kernelspec": {
      "name": "python3",
      "display_name": "Python 3"
    },
    "language_info": {
      "name": "python"
    }
  },
  "cells": [
    {
      "cell_type": "markdown",
      "metadata": {
        "id": "2E0AuRe4A5pH"
      },
      "source": [
        "# Unit 17. while 반복문"
      ]
    },
    {
      "cell_type": "markdown",
      "metadata": {
        "id": "dQUlcjgwA_uj"
      },
      "source": [
        "## 17.1 while 반복문\n",
        "- 반복횟수가 정해져있는 반복문은 while을 쓰지 않는다"
      ]
    },
    {
      "cell_type": "markdown",
      "metadata": {
        "id": "DxwLYNLvCNZW"
      },
      "source": [
        "## 17.2 반복 횟수가 없는 while 반복문"
      ]
    },
    {
      "cell_type": "code",
      "metadata": {
        "id": "RT27MIIZA_dW"
      },
      "source": [
        "while 조건:\n",
        "  조건이 참인 동안 loop를 반복\n",
        "\n",
        "While True:\n",
        "  조건을 만족하면 loop을 탈출"
      ],
      "execution_count": null,
      "outputs": []
    },
    {
      "cell_type": "code",
      "metadata": {
        "id": "lUcnH5nGA2Ee"
      },
      "source": [
        "import random"
      ],
      "execution_count": 1,
      "outputs": []
    },
    {
      "cell_type": "code",
      "metadata": {
        "colab": {
          "base_uri": "https://localhost:8080/"
        },
        "id": "lJTHCRBsCY-T",
        "outputId": "9661b46a-b73c-46a6-f850-3bd973004be5"
      },
      "source": [
        "random.random()\n",
        "#0에서 1사이의 실수값이 아무렇게나 출력"
      ],
      "execution_count": 3,
      "outputs": [
        {
          "output_type": "execute_result",
          "data": {
            "text/plain": [
              "0.4596641987031562"
            ]
          },
          "metadata": {
            "tags": []
          },
          "execution_count": 3
        }
      ]
    },
    {
      "cell_type": "code",
      "metadata": {
        "colab": {
          "base_uri": "https://localhost:8080/"
        },
        "id": "s35QQXUoCcVs",
        "outputId": "7d759587-7650-46ea-ac65-9ed47dff3008"
      },
      "source": [
        "random.randint(1, 6)\n",
        "#시작과 끝 수 사이의 값이 아무렇게나 출력(끝 수도 포함)"
      ],
      "execution_count": 5,
      "outputs": [
        {
          "output_type": "execute_result",
          "data": {
            "text/plain": [
              "1"
            ]
          },
          "metadata": {
            "tags": []
          },
          "execution_count": 5
        }
      ]
    },
    {
      "cell_type": "code",
      "metadata": {
        "colab": {
          "base_uri": "https://localhost:8080/"
        },
        "id": "_wH04hDKCmU5",
        "outputId": "f0e52eb4-e416-48d7-c3f6-db9260d31f95"
      },
      "source": [
        "i=0\n",
        "while i  != 3:\n",
        "  i = random.randint(1, 6)\n",
        "  print(i)\n",
        "\n",
        "#i가 3이되면 루프 탈출(=3이 아니라면 계속 반복)"
      ],
      "execution_count": 10,
      "outputs": [
        {
          "output_type": "stream",
          "text": [
            "6\n",
            "3\n"
          ],
          "name": "stdout"
        }
      ]
    },
    {
      "cell_type": "code",
      "metadata": {
        "colab": {
          "base_uri": "https://localhost:8080/"
        },
        "id": "XtfHYN2kDHUr",
        "outputId": "fb70e4a0-a550-4e7f-9701-ffd913a66770"
      },
      "source": [
        "i = 0\n",
        "dice = list(range(1, 7)) #주사위니까 1~6\n",
        "while i !=3:\n",
        "  i =random.choice(dice)\n",
        "  print(i)"
      ],
      "execution_count": 13,
      "outputs": [
        {
          "output_type": "stream",
          "text": [
            "1\n",
            "1\n",
            "5\n",
            "1\n",
            "3\n"
          ],
          "name": "stdout"
        }
      ]
    },
    {
      "cell_type": "code",
      "metadata": {
        "colab": {
          "base_uri": "https://localhost:8080/"
        },
        "id": "Da6fM02zDgEz",
        "outputId": "180eec33-e2e7-4d97-f20c-313cebacd037"
      },
      "source": [
        "random.choice(dice)"
      ],
      "execution_count": 14,
      "outputs": [
        {
          "output_type": "execute_result",
          "data": {
            "text/plain": [
              "1"
            ]
          },
          "metadata": {
            "tags": []
          },
          "execution_count": 14
        }
      ]
    },
    {
      "cell_type": "code",
      "metadata": {
        "colab": {
          "base_uri": "https://localhost:8080/"
        },
        "id": "fDr1YHsCEFDf",
        "outputId": "8d92e18e-9236-4753-a501-715b03a4909f"
      },
      "source": [
        "random.sample(dice, 6)\n",
        "#순서정하기할때 쓰기 좋은 함수"
      ],
      "execution_count": 16,
      "outputs": [
        {
          "output_type": "execute_result",
          "data": {
            "text/plain": [
              "[4, 6, 2, 1, 5, 3]"
            ]
          },
          "metadata": {
            "tags": []
          },
          "execution_count": 16
        }
      ]
    },
    {
      "cell_type": "markdown",
      "metadata": {
        "id": "Xg9fKBBtEZNR"
      },
      "source": [
        "## 17.3 무한루프\n",
        "- while True"
      ]
    },
    {
      "cell_type": "code",
      "metadata": {
        "id": "HFBW77mlET5j"
      },
      "source": [
        ""
      ],
      "execution_count": null,
      "outputs": []
    }
  ]
}