{
  "nbformat": 4,
  "nbformat_minor": 0,
  "metadata": {
    "colab": {
      "name": "U18_반복문제어.ipynb",
      "provenance": [],
      "collapsed_sections": []
    },
    "kernelspec": {
      "name": "python3",
      "display_name": "Python 3"
    },
    "language_info": {
      "name": "python"
    }
  },
  "cells": [
    {
      "cell_type": "markdown",
      "metadata": {
        "id": "BduLE2SFE5MB"
      },
      "source": [
        "# Unit 18. break,continue"
      ]
    },
    {
      "cell_type": "markdown",
      "metadata": {
        "id": "FqVrDoM3E9OH"
      },
      "source": [
        "## 18.1 break"
      ]
    },
    {
      "cell_type": "code",
      "metadata": {
        "id": "o1uqLn4iE2Ez"
      },
      "source": [
        "import random"
      ],
      "execution_count": 1,
      "outputs": []
    },
    {
      "cell_type": "code",
      "metadata": {
        "colab": {
          "base_uri": "https://localhost:8080/"
        },
        "id": "EqQvB78vFGwj",
        "outputId": "fc750d2a-4448-44aa-d7d0-e98b78bd469e"
      },
      "source": [
        "while True:\n",
        "  i = random.randint(1,6)\n",
        "  print(i)\n",
        "  if i == 3:\n",
        "    break\n",
        "#3나오면 루프 탈출"
      ],
      "execution_count": 3,
      "outputs": [
        {
          "output_type": "stream",
          "text": [
            "6\n",
            "3\n"
          ],
          "name": "stdout"
        }
      ]
    },
    {
      "cell_type": "code",
      "metadata": {
        "id": "EMqAVssEFSrB"
      },
      "source": [
        "#for에서는 break쓸수는 있지만 쓰지않음"
      ],
      "execution_count": 4,
      "outputs": []
    },
    {
      "cell_type": "code",
      "metadata": {
        "colab": {
          "base_uri": "https://localhost:8080/"
        },
        "id": "RlcVogPpFpXo",
        "outputId": "fe79153b-de27-49e4-d258-f745a3a72a0e"
      },
      "source": [
        "for i in range(5):\n",
        "  print(i, end= ' ')\n",
        "  for k in range(5):\n",
        "    print('*', end='')\n",
        "    if i==k:\n",
        "      break #break는 걸린 루프 하나만 빠져나가는 거고, 전체 루프를 빠져나가는게 아니다\n",
        "  print()"
      ],
      "execution_count": 8,
      "outputs": [
        {
          "output_type": "stream",
          "text": [
            "0 *\n",
            "1 **\n",
            "2 ***\n",
            "3 ****\n",
            "4 *****\n"
          ],
          "name": "stdout"
        }
      ]
    },
    {
      "cell_type": "code",
      "metadata": {
        "colab": {
          "base_uri": "https://localhost:8080/"
        },
        "id": "XWhjslUOHXmU",
        "outputId": "34f3aa8f-1a2d-46ed-9186-f08a30a278e4"
      },
      "source": [
        "#break를 걸지 않는다면\n",
        "for i in range(5):\n",
        "  print(i, end= ' ')\n",
        "  for k in range(5):\n",
        "    print('*', end='')\n",
        "  \n",
        "  print()"
      ],
      "execution_count": 17,
      "outputs": [
        {
          "output_type": "stream",
          "text": [
            "0 *****\n",
            "1 *****\n",
            "2 *****\n",
            "3 *****\n",
            "4 *****\n"
          ],
          "name": "stdout"
        }
      ]
    },
    {
      "cell_type": "markdown",
      "metadata": {
        "id": "76QRp0wmG10U"
      },
      "source": [
        "## 18.2 continue"
      ]
    },
    {
      "cell_type": "code",
      "metadata": {
        "colab": {
          "base_uri": "https://localhost:8080/"
        },
        "id": "07lgD0rPGNlq",
        "outputId": "9cec7027-53e5-42b9-d6ca-06d08160f4a6"
      },
      "source": [
        "for i in range(10):\n",
        "  if i % 2 == 0:\n",
        "    continue #짝수면 킵고잉=홀수일때 걸림=홀수 출력\n",
        "  print(i)"
      ],
      "execution_count": 11,
      "outputs": [
        {
          "output_type": "stream",
          "text": [
            "1\n",
            "3\n",
            "5\n",
            "7\n",
            "9\n"
          ],
          "name": "stdout"
        }
      ]
    },
    {
      "cell_type": "code",
      "metadata": {
        "id": "SrO7tShfHAhY"
      },
      "source": [
        ""
      ],
      "execution_count": null,
      "outputs": []
    }
  ]
}