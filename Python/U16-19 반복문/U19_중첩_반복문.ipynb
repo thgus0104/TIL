{
  "nbformat": 4,
  "nbformat_minor": 0,
  "metadata": {
    "colab": {
      "name": "U19_중첩 반복문.ipynb",
      "provenance": [],
      "collapsed_sections": []
    },
    "kernelspec": {
      "name": "python3",
      "display_name": "Python 3"
    },
    "language_info": {
      "name": "python"
    }
  },
  "cells": [
    {
      "cell_type": "markdown",
      "metadata": {
        "id": "thEsgjdxbWim"
      },
      "source": [
        "# Unit 19. 중첩 반복문"
      ]
    },
    {
      "cell_type": "markdown",
      "metadata": {
        "id": "swdl5gEUbbNw"
      },
      "source": [
        "## 19.1 중첩(Nested) for loop"
      ]
    },
    {
      "cell_type": "code",
      "metadata": {
        "colab": {
          "base_uri": "https://localhost:8080/"
        },
        "id": "4ad5MD8KbDt-",
        "outputId": "6c0d3793-d53b-484f-d13e-8a269c5cdefb"
      },
      "source": [
        "for i in range(1,6):\n",
        "  for k in range(10, 60, 10):\n",
        "    print(k, end=' ')\n",
        "  print(i)\n",
        "#안쪽 loop이 먼저 찍히고 그 다음 바깥쪽 loop"
      ],
      "execution_count": 3,
      "outputs": [
        {
          "output_type": "stream",
          "text": [
            "10 20 30 40 50 1\n",
            "10 20 30 40 50 2\n",
            "10 20 30 40 50 3\n",
            "10 20 30 40 50 4\n",
            "10 20 30 40 50 5\n"
          ],
          "name": "stdout"
        }
      ]
    },
    {
      "cell_type": "markdown",
      "metadata": {
        "id": "gIY7j3hIcv60"
      },
      "source": [
        "# 19.2 별 사각형"
      ]
    },
    {
      "cell_type": "code",
      "metadata": {
        "colab": {
          "base_uri": "https://localhost:8080/"
        },
        "id": "rMAjYczfcbnt",
        "outputId": "ef11c648-6cc6-4bf7-a1f3-5de80136135c"
      },
      "source": [
        "for i in range(5):\n",
        "  for k in range(5): #(또는 for _ in range(5) 어차피 k는 출력이 안되기 때문에)\n",
        "    print('*', end='')\n",
        "  print()"
      ],
      "execution_count": 6,
      "outputs": [
        {
          "output_type": "stream",
          "text": [
            "*****\n",
            "*****\n",
            "*****\n",
            "*****\n",
            "*****\n"
          ],
          "name": "stdout"
        }
      ]
    },
    {
      "cell_type": "code",
      "metadata": {
        "colab": {
          "base_uri": "https://localhost:8080/"
        },
        "id": "1l4aXwHndCFe",
        "outputId": "ab097028-aa01-416c-e12e-da678cf644f2"
      },
      "source": [
        "#평행사변형\n",
        "for i in range(4):\n",
        "  for _ in range(0,i):\n",
        "    print(' ',end='')\n",
        "  for _ in range(5):\n",
        "    print('*',end='')\n",
        "  print()\n",
        "  "
      ],
      "execution_count": 8,
      "outputs": [
        {
          "output_type": "stream",
          "text": [
            "*****\n",
            " *****\n",
            "  *****\n",
            "   *****\n"
          ],
          "name": "stdout"
        }
      ]
    },
    {
      "cell_type": "code",
      "metadata": {
        "id": "LJcr-KkkegLd"
      },
      "source": [
        "#첫번째 행에 space bar가 쳐지지 않는 이유\n",
        "for _ in range (0,0):\n",
        "  print('*')\n",
        "#range (0,0)일때는 출력되지 않기 때문에"
      ],
      "execution_count": 10,
      "outputs": []
    },
    {
      "cell_type": "markdown",
      "metadata": {
        "id": "fmwKxYHofm7C"
      },
      "source": [
        "## 19.3 계단식 별 모양"
      ]
    },
    {
      "cell_type": "code",
      "metadata": {
        "colab": {
          "base_uri": "https://localhost:8080/"
        },
        "id": "2rSdBd-Ae8LS",
        "outputId": "3d2fc4e5-7848-4660-9f9d-5ee5cbbb1bda"
      },
      "source": [
        "for i in range(5):\n",
        "  for _ in range(i+1):\n",
        "    print('*',end='')\n",
        "  print()"
      ],
      "execution_count": 11,
      "outputs": [
        {
          "output_type": "stream",
          "text": [
            "*\n",
            "**\n",
            "***\n",
            "****\n",
            "*****\n"
          ],
          "name": "stdout"
        }
      ]
    },
    {
      "cell_type": "code",
      "metadata": {
        "colab": {
          "base_uri": "https://localhost:8080/"
        },
        "id": "h0qrv2jqhF8r",
        "outputId": "c82057d6-cc6f-4465-e57d-c5f23daa536b"
      },
      "source": [
        "for i in range(5):\n",
        "  print('*'*(1+i))"
      ],
      "execution_count": 15,
      "outputs": [
        {
          "output_type": "stream",
          "text": [
            "*\n",
            "**\n",
            "***\n",
            "****\n",
            "*****\n"
          ],
          "name": "stdout"
        }
      ]
    },
    {
      "cell_type": "code",
      "metadata": {
        "colab": {
          "base_uri": "https://localhost:8080/"
        },
        "id": "shS3lXUQf6jF",
        "outputId": "59078cc5-67c5-4f73-be99-7392c9b3da85"
      },
      "source": [
        "for i in range(5):\n",
        "  for _ in range(0, i):\n",
        "    print(' ',end='')\n",
        "  for _ in range(5-i):\n",
        "    print('*',end='')\n",
        "  print()"
      ],
      "execution_count": 13,
      "outputs": [
        {
          "output_type": "stream",
          "text": [
            "*****\n",
            " ****\n",
            "  ***\n",
            "   **\n",
            "    *\n"
          ],
          "name": "stdout"
        }
      ]
    },
    {
      "cell_type": "code",
      "metadata": {
        "colab": {
          "base_uri": "https://localhost:8080/"
        },
        "id": "dIgQLJFQgtUE",
        "outputId": "ab3e1aee-c8da-4ee7-e9c4-363606c8d990"
      },
      "source": [
        "for i in range(5):\n",
        "  print(' '*i,'*'*(5-i),sep='')"
      ],
      "execution_count": 16,
      "outputs": [
        {
          "output_type": "stream",
          "text": [
            "*****\n",
            " ****\n",
            "  ***\n",
            "   **\n",
            "    *\n"
          ],
          "name": "stdout"
        }
      ]
    },
    {
      "cell_type": "markdown",
      "metadata": {
        "id": "ysHB8fV4jRgX"
      },
      "source": [
        "### Diamond 그리기"
      ]
    },
    {
      "cell_type": "code",
      "metadata": {
        "colab": {
          "base_uri": "https://localhost:8080/"
        },
        "id": "wZ5FszY5ha3U",
        "outputId": "86d23a59-efef-4831-da4f-cff3776d4cbf"
      },
      "source": [
        "#내가 한 버전\n",
        "for i in range(1,4):\n",
        "  print(' '*(4-i),'*'*(2*i-1),' '*(4-i),sep='')\n",
        "for i in range(7):\n",
        "  print(' '*i,'*'*(7-2*i),' '*i,sep='')"
      ],
      "execution_count": 31,
      "outputs": [
        {
          "output_type": "stream",
          "text": [
            "   *   \n",
            "  ***  \n",
            " ***** \n",
            "*******\n",
            " ***** \n",
            "  ***  \n",
            "   *   \n",
            "        \n",
            "          \n",
            "            \n"
          ],
          "name": "stdout"
        }
      ]
    },
    {
      "cell_type": "code",
      "metadata": {
        "colab": {
          "base_uri": "https://localhost:8080/"
        },
        "id": "PQChuysGjYda",
        "outputId": "cfde9b43-5e35-4d8e-d482-6c6c4fe40a5d"
      },
      "source": [
        "#정답버전\n",
        "for i in range(5):\n",
        "  for _ in range(4-i):\n",
        "    print(' ',end='')\n",
        "  for _ in range(2*i+1):\n",
        "    print('*',end='')\n",
        "  print()\n",
        "for i in range(4):\n",
        "  for _ in range(1+i):\n",
        "    print(' ',end='')\n",
        "  for _ in range(7-2*i):\n",
        "    print('*',end='')\n",
        "  print()"
      ],
      "execution_count": 55,
      "outputs": [
        {
          "output_type": "stream",
          "text": [
            "    *\n",
            "   ***\n",
            "  *****\n",
            " *******\n",
            "*********\n",
            " *******\n",
            "  *****\n",
            "   ***\n",
            "    *\n"
          ],
          "name": "stdout"
        }
      ]
    },
    {
      "cell_type": "code",
      "metadata": {
        "colab": {
          "base_uri": "https://localhost:8080/"
        },
        "id": "b8kBSK8TlZDL",
        "outputId": "3f03ce9a-c11b-4035-e811-87b32e8828ea"
      },
      "source": [
        "#다른답\n",
        "for i in range(1,4):\n",
        "  print(' '*(4-i),'*'*(2*i-1),sep='')\n",
        "for i in range(7):\n",
        "  print(' '*i,'*'*(7-2*i),sep='')"
      ],
      "execution_count": 60,
      "outputs": [
        {
          "output_type": "stream",
          "text": [
            "   *\n",
            "  ***\n",
            " *****\n",
            "*******\n",
            " *****\n",
            "  ***\n",
            "   *\n",
            "    \n",
            "     \n",
            "      \n"
          ],
          "name": "stdout"
        }
      ]
    },
    {
      "cell_type": "code",
      "metadata": {
        "id": "I-S-aUrdphPE"
      },
      "source": [
        ""
      ],
      "execution_count": null,
      "outputs": []
    }
  ]
}