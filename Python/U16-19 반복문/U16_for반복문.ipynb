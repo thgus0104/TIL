{
  "nbformat": 4,
  "nbformat_minor": 0,
  "metadata": {
    "colab": {
      "name": "U16_for반복문.ipynb",
      "provenance": [],
      "collapsed_sections": []
    },
    "kernelspec": {
      "name": "python3",
      "display_name": "Python 3"
    },
    "language_info": {
      "name": "python"
    }
  },
  "cells": [
    {
      "cell_type": "markdown",
      "metadata": {
        "id": "noOGfPKTtDWm"
      },
      "source": [
        "# Unit 16. for반복문"
      ]
    },
    {
      "cell_type": "markdown",
      "metadata": {
        "id": "wTrlglfqtI_7"
      },
      "source": [
        "## 16.1 for와 range"
      ]
    },
    {
      "cell_type": "code",
      "metadata": {
        "colab": {
          "base_uri": "https://localhost:8080/"
        },
        "id": "TOflrO4Ws986",
        "outputId": "b2567d8b-5fba-4ddd-86fa-74408fa8aa2b"
      },
      "source": [
        "for i in range(10):\n",
        "  print('Hello World!')\n",
        "  #range자리에 다른 리스트가 들어와도 성립가능\n",
        "  #반복문 for는 반복횟수가 정해져있을 때 사용"
      ],
      "execution_count": 6,
      "outputs": [
        {
          "output_type": "stream",
          "text": [
            "Hello World!\n",
            "Hello World!\n",
            "Hello World!\n",
            "Hello World!\n",
            "Hello World!\n",
            "Hello World!\n",
            "Hello World!\n",
            "Hello World!\n",
            "Hello World!\n",
            "Hello World!\n"
          ],
          "name": "stdout"
        }
      ]
    },
    {
      "cell_type": "code",
      "metadata": {
        "colab": {
          "base_uri": "https://localhost:8080/"
        },
        "id": "w8NQqFBSuErm",
        "outputId": "7a6287d3-da63-4926-a3c2-f3c5d3bac5b1"
      },
      "source": [
        "for i in range(10):\n",
        "  print('Hello World!', i)"
      ],
      "execution_count": 7,
      "outputs": [
        {
          "output_type": "stream",
          "text": [
            "Hello World! 0\n",
            "Hello World! 1\n",
            "Hello World! 2\n",
            "Hello World! 3\n",
            "Hello World! 4\n",
            "Hello World! 5\n",
            "Hello World! 6\n",
            "Hello World! 7\n",
            "Hello World! 8\n",
            "Hello World! 9\n"
          ],
          "name": "stdout"
        }
      ]
    },
    {
      "cell_type": "code",
      "metadata": {
        "colab": {
          "base_uri": "https://localhost:8080/"
        },
        "id": "mxsYzMBVvUhd",
        "outputId": "92f449d2-7609-49cd-a99c-6a8afb115955"
      },
      "source": [
        "for _ in range(5):\n",
        "  print('Hello World!')\n",
        "#굳이 변수 i를 쓰지 않는 상황에서는 i를 _(underbar)로 대체가능"
      ],
      "execution_count": 11,
      "outputs": [
        {
          "output_type": "stream",
          "text": [
            "Hello World!\n",
            "Hello World!\n",
            "Hello World!\n",
            "Hello World!\n",
            "Hello World!\n"
          ],
          "name": "stdout"
        }
      ]
    },
    {
      "cell_type": "markdown",
      "metadata": {
        "id": "ooh-wLFVyCcP"
      },
      "source": [
        "## 16.2 for와 range 응용"
      ]
    },
    {
      "cell_type": "code",
      "metadata": {
        "colab": {
          "base_uri": "https://localhost:8080/"
        },
        "id": "V1VyR9g0vkJX",
        "outputId": "46f67631-ab23-405c-b180-2fb94451504e"
      },
      "source": [
        "for i in range(6, 10):\n",
        "  print('Hello World!', i)"
      ],
      "execution_count": 12,
      "outputs": [
        {
          "output_type": "stream",
          "text": [
            "Hello World! 6\n",
            "Hello World! 7\n",
            "Hello World! 8\n",
            "Hello World! 9\n"
          ],
          "name": "stdout"
        }
      ]
    },
    {
      "cell_type": "code",
      "metadata": {
        "colab": {
          "base_uri": "https://localhost:8080/"
        },
        "id": "q0mbVchXyNWc",
        "outputId": "f02824e4-f55a-4c0b-b720-8d541cb83398"
      },
      "source": [
        "for i in range(0, 10, 2):\n",
        "  print('Hello World!', i)"
      ],
      "execution_count": 13,
      "outputs": [
        {
          "output_type": "stream",
          "text": [
            "Hello World! 0\n",
            "Hello World! 2\n",
            "Hello World! 4\n",
            "Hello World! 6\n",
            "Hello World! 8\n"
          ],
          "name": "stdout"
        }
      ]
    },
    {
      "cell_type": "code",
      "metadata": {
        "colab": {
          "base_uri": "https://localhost:8080/"
        },
        "id": "IMVCRqqdySGt",
        "outputId": "e4f77040-5b8b-41a1-9893-b710ac6f462b"
      },
      "source": [
        "for i in range(10, 0, -2):\n",
        "  print('Hello World!', i)"
      ],
      "execution_count": 14,
      "outputs": [
        {
          "output_type": "stream",
          "text": [
            "Hello World! 10\n",
            "Hello World! 8\n",
            "Hello World! 6\n",
            "Hello World! 4\n",
            "Hello World! 2\n"
          ],
          "name": "stdout"
        }
      ]
    },
    {
      "cell_type": "code",
      "metadata": {
        "colab": {
          "base_uri": "https://localhost:8080/"
        },
        "id": "egMMB9CHyZdI",
        "outputId": "faca212f-9aee-430b-c622-e17096c63215"
      },
      "source": [
        "for i in reversed(range(5)):\n",
        "  print('Hello World!', i)"
      ],
      "execution_count": 15,
      "outputs": [
        {
          "output_type": "stream",
          "text": [
            "Hello World! 4\n",
            "Hello World! 3\n",
            "Hello World! 2\n",
            "Hello World! 1\n",
            "Hello World! 0\n"
          ],
          "name": "stdout"
        }
      ]
    },
    {
      "cell_type": "code",
      "metadata": {
        "colab": {
          "base_uri": "https://localhost:8080/"
        },
        "id": "Fr1TypSMy_eO",
        "outputId": "9709936f-e5d4-4488-a594-6b446b8f89c7"
      },
      "source": [
        "for i in range(1, 101):\n",
        "  print('Fizz'*(i%3==0) + 'Buzz'*(i%5==0) or i,end=' ')\n",
        "  #숫자와 숫자 사이는 space bar로 이어준다는 뜻\n",
        "  if (i%10==0):\n",
        "    print()\n",
        "  #10개마다 엔터를 해준다는 뜻"
      ],
      "execution_count": 19,
      "outputs": [
        {
          "output_type": "stream",
          "text": [
            "1 2 Fizz 4 Buzz Fizz 7 8 Fizz Buzz \n",
            "11 Fizz 13 14 FizzBuzz 16 17 Fizz 19 Buzz \n",
            "Fizz 22 23 Fizz Buzz 26 Fizz 28 29 FizzBuzz \n",
            "31 32 Fizz 34 Buzz Fizz 37 38 Fizz Buzz \n",
            "41 Fizz 43 44 FizzBuzz 46 47 Fizz 49 Buzz \n",
            "Fizz 52 53 Fizz Buzz 56 Fizz 58 59 FizzBuzz \n",
            "61 62 Fizz 64 Buzz Fizz 67 68 Fizz Buzz \n",
            "71 Fizz 73 74 FizzBuzz 76 77 Fizz 79 Buzz \n",
            "Fizz 82 83 Fizz Buzz 86 Fizz 88 89 FizzBuzz \n",
            "91 92 Fizz 94 Buzz Fizz 97 98 Fizz Buzz \n"
          ],
          "name": "stdout"
        }
      ]
    },
    {
      "cell_type": "markdown",
      "metadata": {
        "id": "l4WSZ7_10LPc"
      },
      "source": [
        "## 16.3 시퀀스 객체 반복"
      ]
    },
    {
      "cell_type": "code",
      "metadata": {
        "id": "deSkQwGUzHg3"
      },
      "source": [
        "fruits = ['apple', 'banana', 'cherry']\n",
        "for element in fruits:\n",
        "  element"
      ],
      "execution_count": 20,
      "outputs": []
    },
    {
      "cell_type": "code",
      "metadata": {
        "colab": {
          "base_uri": "https://localhost:8080/"
        },
        "id": "Wq2gVOTT0Yex",
        "outputId": "da163484-011d-4be3-ae77-d9150a3aefa1"
      },
      "source": [
        "fruits = ['apple', 'banana', 'cherry']\n",
        "for element in fruits:\n",
        "  print(element)\n",
        "#for 안에서는 print반드시 입력해야 출력됨"
      ],
      "execution_count": 22,
      "outputs": [
        {
          "output_type": "stream",
          "text": [
            "apple\n",
            "banana\n",
            "cherry\n"
          ],
          "name": "stdout"
        }
      ]
    },
    {
      "cell_type": "code",
      "metadata": {
        "colab": {
          "base_uri": "https://localhost:8080/"
        },
        "id": "b8pm7lHW0bWn",
        "outputId": "2caf44cc-d379-4f89-e1f2-030c8c5c4920"
      },
      "source": [
        "fruits = ['apple', 'banana', 'cherry']\n",
        "for fruit in fruits:\n",
        "  print(fruit)\n",
        "#의미상 element보다 fruits의 단수형으로 변수명을 신경써서 설정하는 것이 좋음\n",
        "#혹은 처음부터 fruits 대신 fruit_list로 리스트 만들어 놓기도 함"
      ],
      "execution_count": 24,
      "outputs": [
        {
          "output_type": "stream",
          "text": [
            "apple\n",
            "banana\n",
            "cherry\n"
          ],
          "name": "stdout"
        }
      ]
    },
    {
      "cell_type": "code",
      "metadata": {
        "id": "On-3oR4J0mv4"
      },
      "source": [
        "#변수를 성의있게 설정해야 일년뒤에 봐도 무슨값인지 알수 있음\n",
        "#변수는 소문자로, Class만 대문자로"
      ],
      "execution_count": 25,
      "outputs": []
    },
    {
      "cell_type": "code",
      "metadata": {
        "id": "k9P5bNTR1pZ5"
      },
      "source": [
        "#CamelNotation-Java진영에서 쓰이는 방법(대문자로 단어를 시작해서 구분)\n",
        "#snake_notation- Python진영(언더바로 구분)"
      ],
      "execution_count": 26,
      "outputs": []
    },
    {
      "cell_type": "code",
      "metadata": {
        "colab": {
          "base_uri": "https://localhost:8080/"
        },
        "id": "agvUQYNg2Rd_",
        "outputId": "d5cde00a-24ff-441a-d8e7-b5574eeb3f74"
      },
      "source": [
        "for letter in 'Python':\n",
        "  print(letter, end=' ')"
      ],
      "execution_count": 27,
      "outputs": [
        {
          "output_type": "stream",
          "text": [
            "P y t h o n "
          ],
          "name": "stdout"
        }
      ]
    },
    {
      "cell_type": "code",
      "metadata": {
        "colab": {
          "base_uri": "https://localhost:8080/"
        },
        "id": "nP--wNDg2oen",
        "outputId": "530c3740-9e7e-4f59-f9f1-b2d2b84070e4"
      },
      "source": [
        "for letter in reversed('Python'):\n",
        "  print(letter, end=' ')\n",
        "#letter 대신 char(=character를 쓰기도 함)->C언어"
      ],
      "execution_count": 29,
      "outputs": [
        {
          "output_type": "stream",
          "text": [
            "n o h t y P "
          ],
          "name": "stdout"
        }
      ]
    },
    {
      "cell_type": "code",
      "metadata": {
        "colab": {
          "base_uri": "https://localhost:8080/"
        },
        "id": "25C4tXzv23pk",
        "outputId": "4de58f1f-12a0-4a1c-cbd8-2d6e7852b5cf"
      },
      "source": [
        "#tuple도 적용 가능\n",
        "for number in (10, 20, 30):\n",
        "  print(number)"
      ],
      "execution_count": 31,
      "outputs": [
        {
          "output_type": "stream",
          "text": [
            "10\n",
            "20\n",
            "30\n"
          ],
          "name": "stdout"
        }
      ]
    },
    {
      "cell_type": "markdown",
      "metadata": {
        "id": "K_VGMivn36YE"
      },
      "source": [
        "## Perfect Number\n",
        "- 자기 자신을 제외한 약수의 합이 자기자신과 같은 수\n",
        "\n",
        "- 6의 약수:1, 2, 3, 6\n",
        "\n",
        "- 6=1+2+3\n",
        "\n",
        "- 10000이하의 자연수 중에서는 4개"
      ]
    },
    {
      "cell_type": "code",
      "metadata": {
        "colab": {
          "base_uri": "https://localhost:8080/"
        },
        "id": "U25_2CSh3IY2",
        "outputId": "c7529ec5-8eef-452b-ede5-a36e4b2402c6"
      },
      "source": [
        "for i in range(2,10001):\n",
        "  sum_of_devisor = 0\n",
        "  for k in range (1, i):\n",
        "    if i % k ==0:\n",
        "      sum_of_devisor += k\n",
        "  if i == sum_of_devisor:\n",
        "    print(i)"
      ],
      "execution_count": 50,
      "outputs": [
        {
          "output_type": "stream",
          "text": [
            "6\n",
            "28\n",
            "496\n",
            "8128\n"
          ],
          "name": "stdout"
        }
      ]
    },
    {
      "cell_type": "code",
      "metadata": {
        "colab": {
          "base_uri": "https://localhost:8080/"
        },
        "id": "6BvwxARI5ZZ7",
        "outputId": "2daffc26-97f3-4ba3-90e0-8c7793ee7ac1"
      },
      "source": [
        "#다른방법(아직안배움)\n",
        "perfect_numbers = []\n",
        "for i in range(2, 10001):\n",
        "  divisor_list = []\n",
        "  for k in range (1, i):\n",
        "    if i % k == 0:\n",
        "      divisor_list.append(k)\n",
        "\n",
        "  if i == sum(divisor_list):\n",
        "    perfect_numbers.append(i)\n",
        "\n",
        "print(perfect_numbers)\n",
        "\n",
        "#처음에 안된 이유 sum이라는 함수를 앞에서 한번 쓰면 뒤에서 sum을 다시 쓸 수 없게 됨\n",
        "#(이때는 이전에 사용한 sum을 다른 함수로 고친 후 '런타임 다시시작'하여 사용)"
      ],
      "execution_count": 2,
      "outputs": [
        {
          "output_type": "stream",
          "text": [
            "[6, 28, 496, 8128]\n"
          ],
          "name": "stdout"
        }
      ]
    },
    {
      "cell_type": "code",
      "metadata": {
        "id": "PbaMThmx9-wz"
      },
      "source": [
        "#j는 왠만하면 쓰지마세요~ 왜냐하면 i랑 j랑 잘 구별 안됨"
      ],
      "execution_count": 3,
      "outputs": []
    },
    {
      "cell_type": "code",
      "metadata": {
        "id": "l9YTfIIZAoHT"
      },
      "source": [
        ""
      ],
      "execution_count": null,
      "outputs": []
    }
  ]
}